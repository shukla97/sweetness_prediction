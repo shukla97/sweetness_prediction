{
 "cells": [
  {
   "cell_type": "markdown",
   "metadata": {},
   "source": [
    "# Sweetness Prediction using lasso and ridge"
   ]
  },
  {
   "cell_type": "code",
   "execution_count": 58,
   "metadata": {
    "scrolled": true
   },
   "outputs": [],
   "source": [
    "# loading libraries \n",
    "library(glmnet)\n",
    "library(caTools)\n",
    "set.seed(100)"
   ]
  },
  {
   "cell_type": "code",
   "execution_count": 59,
   "metadata": {
    "collapsed": true
   },
   "outputs": [],
   "source": [
    "# Reading data\n",
    "sp <- read.csv(\"C:/Users/Shubham Shukla/Desktop/internship/new/sweetness_prediction/ecfp.csv\")\n",
    "sp1 <- read.csv(\"C:/Users/Shubham Shukla/Desktop/internship/new/sweetness_prediction/new_data/ecfp_new.csv\")"
   ]
  },
  {
   "cell_type": "code",
   "execution_count": 78,
   "metadata": {
    "collapsed": true
   },
   "outputs": [],
   "source": [
    "names(sp)[2] <- \"logSw\""
   ]
  },
  {
   "cell_type": "code",
   "execution_count": 61,
   "metadata": {
    "collapsed": true
   },
   "outputs": [],
   "source": [
    "sp$Sweetness <- log10(sp$Sweetness)"
   ]
  },
  {
   "cell_type": "code",
   "execution_count": 81,
   "metadata": {
    "collapsed": true
   },
   "outputs": [],
   "source": [
    "sp2 <- rbind(sp,sp1)"
   ]
  },
  {
   "cell_type": "code",
   "execution_count": 86,
   "metadata": {},
   "outputs": [
    {
     "data": {
      "text/html": [
       "<ol class=list-inline>\n",
       "\t<li>510</li>\n",
       "\t<li>2049</li>\n",
       "</ol>\n"
      ],
      "text/latex": [
       "\\begin{enumerate*}\n",
       "\\item 510\n",
       "\\item 2049\n",
       "\\end{enumerate*}\n"
      ],
      "text/markdown": [
       "1. 510\n",
       "2. 2049\n",
       "\n",
       "\n"
      ],
      "text/plain": [
       "[1]  510 2049"
      ]
     },
     "metadata": {},
     "output_type": "display_data"
    }
   ],
   "source": [
    "dim(sp2)"
   ]
  },
  {
   "cell_type": "code",
   "execution_count": 87,
   "metadata": {
    "collapsed": true
   },
   "outputs": [],
   "source": [
    "# Splitting sp data into training and testing set\n",
    "\n",
    "split <- sample.split(sp2$logSw, SplitRatio = 0.75)\n",
    "train <- subset(sp2, split == T)\n",
    "test <- subset(sp2, split == F)"
   ]
  },
  {
   "cell_type": "code",
   "execution_count": 88,
   "metadata": {
    "collapsed": true,
    "scrolled": true
   },
   "outputs": [],
   "source": [
    "train <- subset(train, select = -c(smiles))"
   ]
  },
  {
   "cell_type": "code",
   "execution_count": 89,
   "metadata": {
    "collapsed": true
   },
   "outputs": [],
   "source": [
    "test <- subset(test, select = -c(smiles))"
   ]
  },
  {
   "cell_type": "code",
   "execution_count": 90,
   "metadata": {
    "collapsed": true
   },
   "outputs": [],
   "source": [
    "testx <- model.matrix(logSw ~. -1, data = test)\n",
    "testy <- test$logSw"
   ]
  },
  {
   "cell_type": "code",
   "execution_count": 91,
   "metadata": {
    "collapsed": true
   },
   "outputs": [],
   "source": [
    "# Converting into matrix \n",
    "\n",
    "x <- model.matrix(logSw ~. -1, data = train)\n",
    "y <- train$logSw"
   ]
  },
  {
   "cell_type": "markdown",
   "metadata": {},
   "source": [
    "### Using lasso"
   ]
  },
  {
   "cell_type": "code",
   "execution_count": 69,
   "metadata": {},
   "outputs": [],
   "source": [
    "cv.lasso <- cv.glmnet(x,y, alpha = 1, nlambda = 100)\n",
    "# plot(cv.lasso)"
   ]
  },
  {
   "cell_type": "code",
   "execution_count": 70,
   "metadata": {
    "collapsed": true
   },
   "outputs": [],
   "source": [
    "# Model fitting using lasso \n",
    "\n",
    "fit <- glmnet(x,y, alpha = 1, lambda = cv.lasso$lambda.1se)"
   ]
  },
  {
   "cell_type": "code",
   "execution_count": 71,
   "metadata": {},
   "outputs": [
    {
     "data": {
      "text/plain": [
       "\n",
       "Call:  glmnet(x = x, y = y, alpha = 1, lambda = cv.lasso$lambda.1se) \n",
       "\n",
       "     Df   %Dev  Lambda\n",
       "[1,] 17 0.9698 0.08384"
      ]
     },
     "metadata": {},
     "output_type": "display_data"
    }
   ],
   "source": [
    "fit"
   ]
  },
  {
   "cell_type": "code",
   "execution_count": 72,
   "metadata": {},
   "outputs": [
    {
     "data": {
      "text/html": [
       "44"
      ],
      "text/latex": [
       "44"
      ],
      "text/markdown": [
       "44"
      ],
      "text/plain": [
       "[1] 44"
      ]
     },
     "metadata": {},
     "output_type": "display_data"
    }
   ],
   "source": [
    "model.predict <- predict(fit,testx)\n",
    "nrow(model.predict)"
   ]
  },
  {
   "cell_type": "code",
   "execution_count": 73,
   "metadata": {
    "collapsed": true
   },
   "outputs": [],
   "source": [
    "sse <- sum((model.predict - testy)^2)\n",
    "sst <- sum((testy - mean(testy))^2)\n",
    "\n",
    "r_sq <- 1 - (sse/sst)"
   ]
  },
  {
   "cell_type": "code",
   "execution_count": 74,
   "metadata": {},
   "outputs": [
    {
     "data": {
      "text/html": [
       "0.962243699518413"
      ],
      "text/latex": [
       "0.962243699518413"
      ],
      "text/markdown": [
       "0.962243699518413"
      ],
      "text/plain": [
       "[1] 0.9622437"
      ]
     },
     "metadata": {},
     "output_type": "display_data"
    }
   ],
   "source": [
    "r_sq"
   ]
  },
  {
   "cell_type": "markdown",
   "metadata": {},
   "source": [
    "# Using different dataset for testing"
   ]
  },
  {
   "cell_type": "code",
   "execution_count": 94,
   "metadata": {
    "collapsed": true
   },
   "outputs": [],
   "source": [
    "#Converting into matrix for lasso\n",
    "\n",
    "data_new <- subset(sp1,select = -c(smiles))\n",
    "\n",
    "sam <- sample.split(data_new$logSw, SplitRatio = 0.50)\n",
    "sam_x <- subset(data_new, sam == T)\n",
    "data_new_x <- model.matrix(logSw ~.-1, data = sam_x)\n",
    "data_new_y <- sam_x$logSw"
   ]
  },
  {
   "cell_type": "code",
   "execution_count": 95,
   "metadata": {
    "collapsed": true,
    "scrolled": true
   },
   "outputs": [],
   "source": [
    "log.predict_new_data <- predict(log.fit, data_new_x)"
   ]
  },
  {
   "cell_type": "code",
   "execution_count": 100,
   "metadata": {
    "scrolled": true
   },
   "outputs": [
    {
     "data": {
      "text/html": [
       "0.810313171580266"
      ],
      "text/latex": [
       "0.810313171580266"
      ],
      "text/markdown": [
       "0.810313171580266"
      ],
      "text/plain": [
       "[1] 0.8103132"
      ]
     },
     "metadata": {},
     "output_type": "display_data"
    }
   ],
   "source": [
    "new_sse <- sum((data_new_y - log.predict_new_data)^2)\n",
    "new_sst <- sum((data_new_y - mean(data_new_y))^2)\n",
    "\n",
    "(new_sse - new_sst)/new_sse"
   ]
  },
  {
   "cell_type": "code",
   "execution_count": null,
   "metadata": {
    "collapsed": true
   },
   "outputs": [],
   "source": []
  }
 ],
 "metadata": {
  "kernelspec": {
   "display_name": "R",
   "language": "R",
   "name": "ir"
  },
  "language_info": {
   "codemirror_mode": "r",
   "file_extension": ".r",
   "mimetype": "text/x-r-source",
   "name": "R",
   "pygments_lexer": "r",
   "version": "3.4.2"
  }
 },
 "nbformat": 4,
 "nbformat_minor": 2
}

{
 "cells": [
  {
   "cell_type": "markdown",
   "metadata": {},
   "source": [
    "# Sweetness Prediction using lasso and ridge "
   ]
  },
  {
   "cell_type": "markdown",
   "metadata": {},
   "source": [
    "## Loading dataset"
   ]
  },
  {
   "cell_type": "code",
   "execution_count": 1,
   "metadata": {
    "collapsed": true
   },
   "outputs": [],
   "source": [
    "sp <- read.csv(\"C:/Users/Shubham Shukla/Desktop/internship/new/sweetness-prediction/data/properties/ecfp.csv\")"
   ]
  },
  {
   "cell_type": "code",
   "execution_count": 2,
   "metadata": {
    "scrolled": true
   },
   "outputs": [
    {
     "name": "stdout",
     "output_type": "stream",
     "text": [
      "'data.frame':\t201 obs. of  2049 variables:\n",
      " $ Extended.Connectivity.FINGERPRINTS...size.2048...length.0.to.2...bits.per.pattern.2...count.fragments...atom.options.Atom.type.Aromaticity.Connectivity..total..Charge.Bond.order: Factor w/ 201 levels \"[Ca].S(=O)(=O)([O-])NC1CCCCC1\",..: 64 180 1 68 4 197 9 198 5 153 ...\n",
      " $ X                                                                                                                                                                                : int  0 0 0 0 0 0 0 0 0 0 ...\n",
      " $ X.1                                                                                                                                                                              : int  0 1 0 0 1 1 0 1 1 1 ...\n",
      " $ X.2                                                                                                                                                                              : int  0 0 0 0 0 0 0 0 0 0 ...\n",
      " $ X.3                                                                                                                                                                              : int  0 0 0 0 0 0 0 0 0 0 ...\n",
      " $ X.4                                                                                                                                                                              : int  0 0 0 0 0 0 0 0 0 0 ...\n",
      " $ X.5                                                                                                                                                                              : int  1 0 0 1 0 0 0 0 0 0 ...\n",
      " $ X.6                                                                                                                                                                              : int  0 0 0 0 0 0 0 0 0 0 ...\n",
      " $ X.7                                                                                                                                                                              : int  0 0 0 0 0 0 0 0 0 0 ...\n",
      " $ X.8                                                                                                                                                                              : int  0 0 0 0 0 0 0 0 0 0 ...\n",
      " $ X.9                                                                                                                                                                              : int  0 0 0 0 0 0 0 0 0 0 ...\n",
      " $ X.10                                                                                                                                                                             : int  0 1 0 0 0 0 0 0 0 1 ...\n",
      " $ X.11                                                                                                                                                                             : int  0 0 0 0 1 0 0 0 1 0 ...\n",
      " $ X.12                                                                                                                                                                             : int  0 1 0 0 0 0 0 0 1 1 ...\n",
      " $ X.13                                                                                                                                                                             : int  0 1 0 0 0 0 0 0 0 1 ...\n",
      " $ X.14                                                                                                                                                                             : int  0 0 0 0 0 0 0 0 0 0 ...\n",
      " $ X.15                                                                                                                                                                             : int  0 0 0 0 0 0 0 0 0 0 ...\n",
      " $ X.16                                                                                                                                                                             : int  0 0 0 0 0 0 0 0 0 0 ...\n",
      " $ X.17                                                                                                                                                                             : int  0 0 0 0 1 1 0 1 1 0 ...\n",
      " $ X.18                                                                                                                                                                             : int  0 0 0 0 0 0 0 0 0 0 ...\n",
      " $ X.19                                                                                                                                                                             : int  0 0 0 0 0 0 0 0 0 0 ...\n",
      " $ X.20                                                                                                                                                                             : int  0 0 0 0 0 0 0 0 0 0 ...\n",
      " $ X.21                                                                                                                                                                             : int  0 0 0 0 0 0 0 0 0 0 ...\n",
      " $ X.22                                                                                                                                                                             : int  0 0 0 0 0 0 0 0 0 0 ...\n",
      " $ X.23                                                                                                                                                                             : int  0 0 0 0 0 0 0 0 0 0 ...\n",
      " $ X.24                                                                                                                                                                             : int  0 0 0 0 0 0 0 0 0 0 ...\n",
      " $ X.25                                                                                                                                                                             : int  0 0 0 0 0 0 0 0 0 0 ...\n",
      " $ X.26                                                                                                                                                                             : int  0 0 0 0 0 0 0 0 0 0 ...\n",
      " $ X.27                                                                                                                                                                             : int  0 0 0 0 0 0 0 0 0 0 ...\n",
      " $ X.28                                                                                                                                                                             : int  0 0 0 0 0 0 0 0 0 0 ...\n",
      " $ X.29                                                                                                                                                                             : int  1 0 0 1 0 0 0 0 0 0 ...\n",
      " $ X.30                                                                                                                                                                             : int  0 0 0 0 1 0 0 0 1 0 ...\n",
      " $ X.31                                                                                                                                                                             : int  0 0 0 0 0 0 0 0 0 0 ...\n",
      " $ X.32                                                                                                                                                                             : int  1 0 0 1 1 1 0 1 1 0 ...\n",
      " $ X.33                                                                                                                                                                             : int  0 0 0 0 0 0 0 0 0 0 ...\n",
      " $ X.34                                                                                                                                                                             : int  0 0 0 0 0 0 0 0 0 0 ...\n",
      " $ X.35                                                                                                                                                                             : int  0 0 0 0 0 0 0 0 0 0 ...\n",
      " $ X.36                                                                                                                                                                             : int  0 0 0 0 0 0 0 0 0 0 ...\n",
      " $ X.37                                                                                                                                                                             : int  1 0 0 1 0 0 0 0 0 0 ...\n",
      " $ X.38                                                                                                                                                                             : int  0 0 0 0 0 0 0 0 0 0 ...\n",
      " $ X.39                                                                                                                                                                             : int  0 0 0 0 0 0 0 0 0 0 ...\n",
      " $ X.40                                                                                                                                                                             : int  0 0 0 0 0 0 0 0 0 0 ...\n",
      " $ X.41                                                                                                                                                                             : int  0 0 0 0 0 0 0 0 0 0 ...\n",
      " $ X.42                                                                                                                                                                             : int  0 0 0 0 0 0 0 0 0 0 ...\n",
      " $ X.43                                                                                                                                                                             : int  0 0 0 0 0 0 0 0 0 0 ...\n",
      " $ X.44                                                                                                                                                                             : int  0 0 0 0 0 0 0 0 0 0 ...\n",
      " $ X.45                                                                                                                                                                             : int  0 0 0 0 0 0 0 0 0 0 ...\n",
      " $ X.46                                                                                                                                                                             : int  0 0 0 0 0 0 0 0 0 0 ...\n",
      " $ X.47                                                                                                                                                                             : int  0 1 0 0 0 0 0 0 0 1 ...\n",
      " $ X.48                                                                                                                                                                             : int  0 0 0 0 0 0 0 0 0 0 ...\n",
      " $ X.49                                                                                                                                                                             : int  0 0 0 0 0 0 0 0 0 0 ...\n",
      " $ X.50                                                                                                                                                                             : int  0 0 0 0 0 0 0 0 0 0 ...\n",
      " $ X.51                                                                                                                                                                             : int  0 0 0 0 0 0 0 0 0 0 ...\n",
      " $ X.52                                                                                                                                                                             : int  0 0 0 0 0 0 0 0 0 0 ...\n",
      " $ X.53                                                                                                                                                                             : int  0 1 0 0 0 0 0 0 0 1 ...\n",
      " $ X.54                                                                                                                                                                             : int  0 0 0 0 0 0 0 0 0 0 ...\n",
      " $ X.55                                                                                                                                                                             : int  0 1 0 0 0 0 0 0 0 1 ...\n",
      " $ X.56                                                                                                                                                                             : int  0 0 0 0 0 0 0 0 0 0 ...\n",
      " $ X.57                                                                                                                                                                             : int  0 0 0 0 0 0 0 0 0 0 ...\n",
      " $ X.58                                                                                                                                                                             : int  0 0 0 0 0 0 0 0 0 0 ...\n",
      " $ X.59                                                                                                                                                                             : int  0 0 0 0 0 0 0 0 0 0 ...\n",
      " $ X.60                                                                                                                                                                             : int  0 0 0 0 0 0 0 0 0 0 ...\n",
      " $ X.61                                                                                                                                                                             : int  0 0 0 0 0 0 0 0 0 0 ...\n",
      " $ X.62                                                                                                                                                                             : int  0 0 0 0 0 0 0 0 0 0 ...\n",
      " $ X.63                                                                                                                                                                             : int  0 0 0 0 0 0 0 0 0 0 ...\n",
      " $ X.64                                                                                                                                                                             : int  1 1 0 1 0 0 0 0 0 1 ...\n",
      " $ X.65                                                                                                                                                                             : int  0 0 0 0 0 0 0 0 0 0 ...\n",
      " $ X.66                                                                                                                                                                             : int  0 0 0 0 0 0 0 0 0 0 ...\n",
      " $ X.67                                                                                                                                                                             : int  0 0 0 0 0 0 0 0 0 0 ...\n",
      " $ X.68                                                                                                                                                                             : int  0 0 0 0 0 0 0 0 0 0 ...\n",
      " $ X.69                                                                                                                                                                             : int  0 0 0 0 0 0 0 0 0 0 ...\n",
      " $ X.70                                                                                                                                                                             : int  0 0 0 0 0 0 0 0 0 0 ...\n",
      " $ X.71                                                                                                                                                                             : int  0 0 0 0 0 0 0 0 0 0 ...\n",
      " $ X.72                                                                                                                                                                             : int  0 0 0 0 0 0 0 0 0 0 ...\n",
      " $ X.73                                                                                                                                                                             : int  0 0 0 0 0 0 0 0 0 0 ...\n",
      " $ X.74                                                                                                                                                                             : int  0 0 0 0 0 0 0 0 0 0 ...\n",
      " $ X.75                                                                                                                                                                             : int  0 0 0 0 0 0 0 0 0 0 ...\n",
      " $ X.76                                                                                                                                                                             : int  0 0 0 0 0 0 0 0 0 0 ...\n",
      " $ X.77                                                                                                                                                                             : int  0 0 0 0 0 0 0 0 0 0 ...\n",
      " $ X.78                                                                                                                                                                             : int  0 0 0 0 0 0 0 0 0 0 ...\n",
      " $ X.79                                                                                                                                                                             : int  0 0 0 0 0 0 0 0 0 0 ...\n",
      " $ X.80                                                                                                                                                                             : int  0 0 0 0 0 0 0 0 0 0 ...\n",
      " $ X.81                                                                                                                                                                             : int  0 0 0 0 0 0 0 0 0 0 ...\n",
      " $ X.82                                                                                                                                                                             : int  0 0 0 0 0 0 0 0 0 0 ...\n",
      " $ X.83                                                                                                                                                                             : int  0 0 0 0 0 0 0 0 0 0 ...\n",
      " $ X.84                                                                                                                                                                             : int  0 0 0 0 0 0 0 0 0 0 ...\n",
      " $ X.85                                                                                                                                                                             : int  0 0 0 0 0 0 0 0 0 0 ...\n",
      " $ X.86                                                                                                                                                                             : int  0 0 0 0 0 0 0 0 0 0 ...\n",
      " $ X.87                                                                                                                                                                             : int  0 0 0 0 1 0 0 0 1 0 ...\n",
      " $ X.88                                                                                                                                                                             : int  1 0 0 1 0 0 0 0 0 0 ...\n",
      " $ X.89                                                                                                                                                                             : int  0 0 0 0 0 0 0 0 0 0 ...\n",
      " $ X.90                                                                                                                                                                             : int  0 0 0 0 0 0 0 0 0 0 ...\n",
      " $ X.91                                                                                                                                                                             : int  0 0 0 0 0 0 0 0 0 0 ...\n",
      " $ X.92                                                                                                                                                                             : int  0 0 0 0 0 0 0 0 0 0 ...\n",
      " $ X.93                                                                                                                                                                             : int  0 1 0 0 0 0 0 0 0 1 ...\n",
      " $ X.94                                                                                                                                                                             : int  0 0 0 0 0 0 0 0 0 0 ...\n",
      " $ X.95                                                                                                                                                                             : int  0 0 0 0 0 0 0 0 0 0 ...\n",
      " $ X.96                                                                                                                                                                             : int  0 0 0 0 0 0 0 0 0 0 ...\n",
      " $ X.97                                                                                                                                                                             : int  0 0 0 0 0 0 0 0 0 0 ...\n",
      "  [list output truncated]\n"
     ]
    }
   ],
   "source": [
    "str(sp)"
   ]
  },
  {
   "cell_type": "code",
   "execution_count": 3,
   "metadata": {},
   "outputs": [
    {
     "name": "stderr",
     "output_type": "stream",
     "text": [
      "Warning message:\n",
      "\"package 'glmnet' was built under R version 3.4.3\"Loading required package: Matrix\n",
      "Warning message:\n",
      "\"package 'Matrix' was built under R version 3.4.3\"Loading required package: foreach\n",
      "Warning message:\n",
      "\"package 'foreach' was built under R version 3.4.3\"Loaded glmnet 2.0-13\n",
      "\n"
     ]
    }
   ],
   "source": [
    "library(glmnet)\n",
    "library(caTools)\n",
    "set.seed(123)"
   ]
  },
  {
   "cell_type": "code",
   "execution_count": 4,
   "metadata": {
    "scrolled": true
   },
   "outputs": [
    {
     "name": "stdout",
     "output_type": "stream",
     "text": [
      "'data.frame':\t201 obs. of  2048 variables:\n",
      " $ X     : int  0 0 0 0 0 0 0 0 0 0 ...\n",
      " $ X.1   : int  0 1 0 0 1 1 0 1 1 1 ...\n",
      " $ X.2   : int  0 0 0 0 0 0 0 0 0 0 ...\n",
      " $ X.3   : int  0 0 0 0 0 0 0 0 0 0 ...\n",
      " $ X.4   : int  0 0 0 0 0 0 0 0 0 0 ...\n",
      " $ X.5   : int  1 0 0 1 0 0 0 0 0 0 ...\n",
      " $ X.6   : int  0 0 0 0 0 0 0 0 0 0 ...\n",
      " $ X.7   : int  0 0 0 0 0 0 0 0 0 0 ...\n",
      " $ X.8   : int  0 0 0 0 0 0 0 0 0 0 ...\n",
      " $ X.9   : int  0 0 0 0 0 0 0 0 0 0 ...\n",
      " $ X.10  : int  0 1 0 0 0 0 0 0 0 1 ...\n",
      " $ X.11  : int  0 0 0 0 1 0 0 0 1 0 ...\n",
      " $ X.12  : int  0 1 0 0 0 0 0 0 1 1 ...\n",
      " $ X.13  : int  0 1 0 0 0 0 0 0 0 1 ...\n",
      " $ X.14  : int  0 0 0 0 0 0 0 0 0 0 ...\n",
      " $ X.15  : int  0 0 0 0 0 0 0 0 0 0 ...\n",
      " $ X.16  : int  0 0 0 0 0 0 0 0 0 0 ...\n",
      " $ X.17  : int  0 0 0 0 1 1 0 1 1 0 ...\n",
      " $ X.18  : int  0 0 0 0 0 0 0 0 0 0 ...\n",
      " $ X.19  : int  0 0 0 0 0 0 0 0 0 0 ...\n",
      " $ X.20  : int  0 0 0 0 0 0 0 0 0 0 ...\n",
      " $ X.21  : int  0 0 0 0 0 0 0 0 0 0 ...\n",
      " $ X.22  : int  0 0 0 0 0 0 0 0 0 0 ...\n",
      " $ X.23  : int  0 0 0 0 0 0 0 0 0 0 ...\n",
      " $ X.24  : int  0 0 0 0 0 0 0 0 0 0 ...\n",
      " $ X.25  : int  0 0 0 0 0 0 0 0 0 0 ...\n",
      " $ X.26  : int  0 0 0 0 0 0 0 0 0 0 ...\n",
      " $ X.27  : int  0 0 0 0 0 0 0 0 0 0 ...\n",
      " $ X.28  : int  0 0 0 0 0 0 0 0 0 0 ...\n",
      " $ X.29  : int  1 0 0 1 0 0 0 0 0 0 ...\n",
      " $ X.30  : int  0 0 0 0 1 0 0 0 1 0 ...\n",
      " $ X.31  : int  0 0 0 0 0 0 0 0 0 0 ...\n",
      " $ X.32  : int  1 0 0 1 1 1 0 1 1 0 ...\n",
      " $ X.33  : int  0 0 0 0 0 0 0 0 0 0 ...\n",
      " $ X.34  : int  0 0 0 0 0 0 0 0 0 0 ...\n",
      " $ X.35  : int  0 0 0 0 0 0 0 0 0 0 ...\n",
      " $ X.36  : int  0 0 0 0 0 0 0 0 0 0 ...\n",
      " $ X.37  : int  1 0 0 1 0 0 0 0 0 0 ...\n",
      " $ X.38  : int  0 0 0 0 0 0 0 0 0 0 ...\n",
      " $ X.39  : int  0 0 0 0 0 0 0 0 0 0 ...\n",
      " $ X.40  : int  0 0 0 0 0 0 0 0 0 0 ...\n",
      " $ X.41  : int  0 0 0 0 0 0 0 0 0 0 ...\n",
      " $ X.42  : int  0 0 0 0 0 0 0 0 0 0 ...\n",
      " $ X.43  : int  0 0 0 0 0 0 0 0 0 0 ...\n",
      " $ X.44  : int  0 0 0 0 0 0 0 0 0 0 ...\n",
      " $ X.45  : int  0 0 0 0 0 0 0 0 0 0 ...\n",
      " $ X.46  : int  0 0 0 0 0 0 0 0 0 0 ...\n",
      " $ X.47  : int  0 1 0 0 0 0 0 0 0 1 ...\n",
      " $ X.48  : int  0 0 0 0 0 0 0 0 0 0 ...\n",
      " $ X.49  : int  0 0 0 0 0 0 0 0 0 0 ...\n",
      " $ X.50  : int  0 0 0 0 0 0 0 0 0 0 ...\n",
      " $ X.51  : int  0 0 0 0 0 0 0 0 0 0 ...\n",
      " $ X.52  : int  0 0 0 0 0 0 0 0 0 0 ...\n",
      " $ X.53  : int  0 1 0 0 0 0 0 0 0 1 ...\n",
      " $ X.54  : int  0 0 0 0 0 0 0 0 0 0 ...\n",
      " $ X.55  : int  0 1 0 0 0 0 0 0 0 1 ...\n",
      " $ X.56  : int  0 0 0 0 0 0 0 0 0 0 ...\n",
      " $ X.57  : int  0 0 0 0 0 0 0 0 0 0 ...\n",
      " $ X.58  : int  0 0 0 0 0 0 0 0 0 0 ...\n",
      " $ X.59  : int  0 0 0 0 0 0 0 0 0 0 ...\n",
      " $ X.60  : int  0 0 0 0 0 0 0 0 0 0 ...\n",
      " $ X.61  : int  0 0 0 0 0 0 0 0 0 0 ...\n",
      " $ X.62  : int  0 0 0 0 0 0 0 0 0 0 ...\n",
      " $ X.63  : int  0 0 0 0 0 0 0 0 0 0 ...\n",
      " $ X.64  : int  1 1 0 1 0 0 0 0 0 1 ...\n",
      " $ X.65  : int  0 0 0 0 0 0 0 0 0 0 ...\n",
      " $ X.66  : int  0 0 0 0 0 0 0 0 0 0 ...\n",
      " $ X.67  : int  0 0 0 0 0 0 0 0 0 0 ...\n",
      " $ X.68  : int  0 0 0 0 0 0 0 0 0 0 ...\n",
      " $ X.69  : int  0 0 0 0 0 0 0 0 0 0 ...\n",
      " $ X.70  : int  0 0 0 0 0 0 0 0 0 0 ...\n",
      " $ X.71  : int  0 0 0 0 0 0 0 0 0 0 ...\n",
      " $ X.72  : int  0 0 0 0 0 0 0 0 0 0 ...\n",
      " $ X.73  : int  0 0 0 0 0 0 0 0 0 0 ...\n",
      " $ X.74  : int  0 0 0 0 0 0 0 0 0 0 ...\n",
      " $ X.75  : int  0 0 0 0 0 0 0 0 0 0 ...\n",
      " $ X.76  : int  0 0 0 0 0 0 0 0 0 0 ...\n",
      " $ X.77  : int  0 0 0 0 0 0 0 0 0 0 ...\n",
      " $ X.78  : int  0 0 0 0 0 0 0 0 0 0 ...\n",
      " $ X.79  : int  0 0 0 0 0 0 0 0 0 0 ...\n",
      " $ X.80  : int  0 0 0 0 0 0 0 0 0 0 ...\n",
      " $ X.81  : int  0 0 0 0 0 0 0 0 0 0 ...\n",
      " $ X.82  : int  0 0 0 0 0 0 0 0 0 0 ...\n",
      " $ X.83  : int  0 0 0 0 0 0 0 0 0 0 ...\n",
      " $ X.84  : int  0 0 0 0 0 0 0 0 0 0 ...\n",
      " $ X.85  : int  0 0 0 0 0 0 0 0 0 0 ...\n",
      " $ X.86  : int  0 0 0 0 0 0 0 0 0 0 ...\n",
      " $ X.87  : int  0 0 0 0 1 0 0 0 1 0 ...\n",
      " $ X.88  : int  1 0 0 1 0 0 0 0 0 0 ...\n",
      " $ X.89  : int  0 0 0 0 0 0 0 0 0 0 ...\n",
      " $ X.90  : int  0 0 0 0 0 0 0 0 0 0 ...\n",
      " $ X.91  : int  0 0 0 0 0 0 0 0 0 0 ...\n",
      " $ X.92  : int  0 0 0 0 0 0 0 0 0 0 ...\n",
      " $ X.93  : int  0 1 0 0 0 0 0 0 0 1 ...\n",
      " $ X.94  : int  0 0 0 0 0 0 0 0 0 0 ...\n",
      " $ X.95  : int  0 0 0 0 0 0 0 0 0 0 ...\n",
      " $ X.96  : int  0 0 0 0 0 0 0 0 0 0 ...\n",
      " $ X.97  : int  0 0 0 0 0 0 0 0 0 0 ...\n",
      " $ X.98  : int  0 0 0 0 0 0 0 0 0 0 ...\n",
      "  [list output truncated]\n"
     ]
    }
   ],
   "source": [
    "sp <- drop(sp[-1])\n",
    "str(sp)"
   ]
  },
  {
   "cell_type": "markdown",
   "metadata": {},
   "source": [
    "### Making training and testing set "
   ]
  },
  {
   "cell_type": "code",
   "execution_count": 5,
   "metadata": {},
   "outputs": [
    {
     "ename": "ERROR",
     "evalue": "Error in sample.split(sp$Sweetness, SplitRatio = 0.75): Error in sample.split: 'SplitRatio' parameter has to be i [0, 1] range or [1, length(Y)] range\n",
     "output_type": "error",
     "traceback": [
      "Error in sample.split(sp$Sweetness, SplitRatio = 0.75): Error in sample.split: 'SplitRatio' parameter has to be i [0, 1] range or [1, length(Y)] range\nTraceback:\n",
      "1. sample.split(sp$Sweetness, SplitRatio = 0.75)",
      "2. stop(\"Error in sample.split: 'SplitRatio' parameter has to be i [0, 1] range or [1, length(Y)] range\")"
     ]
    }
   ],
   "source": [
    "split <- sample.split(sp$Sweetness, SplitRatio = 0.75)\n",
    "data_train <- subset(sp, split == TRUE)\n",
    "data_test <- subset(sp,split == F)"
   ]
  },
  {
   "cell_type": "code",
   "execution_count": null,
   "metadata": {
    "collapsed": true
   },
   "outputs": [],
   "source": [
    "# Training data matrix\n",
    "trainx <- data_train[2:length(sp)]\n",
    "trainy <- data_train$Sweetness\n",
    "\n",
    "#Testing Data matrix\n",
    "testx <- data_test[2:length(sp)]\n",
    "testy <- data_test$Sweetness"
   ]
  },
  {
   "cell_type": "markdown",
   "metadata": {},
   "source": [
    "### Using lasso and ridge regression "
   ]
  },
  {
   "cell_type": "code",
   "execution_count": null,
   "metadata": {
    "collapsed": true
   },
   "outputs": [],
   "source": [
    "x <- model.matrix(Sweetness ~. -1, data = data_train)\n",
    "y <- data_train$Sweetness"
   ]
  },
  {
   "cell_type": "code",
   "execution_count": null,
   "metadata": {
    "scrolled": true
   },
   "outputs": [],
   "source": [
    "fit.ridge=glmnet(x,y,alpha=0)\n",
    "plot(fit.ridge,xvar=\"lambda\",label=TRUE)"
   ]
  },
  {
   "cell_type": "markdown",
   "metadata": {},
   "source": [
    "### Using ridge to select model "
   ]
  },
  {
   "cell_type": "code",
   "execution_count": null,
   "metadata": {
    "scrolled": false
   },
   "outputs": [],
   "source": [
    "cv.ridge=cv.glmnet(x,y,alpha=0)\n",
    "plot(cv.ridge)"
   ]
  },
  {
   "cell_type": "markdown",
   "metadata": {},
   "source": [
    "### Using lasso  "
   ]
  },
  {
   "cell_type": "code",
   "execution_count": null,
   "metadata": {
    "scrolled": true
   },
   "outputs": [],
   "source": [
    "fit.lasso=glmnet(x,y,alpha= 1)\n",
    "plot(fit.lasso,xvar=\"lambda\",label=TRUE)"
   ]
  },
  {
   "cell_type": "markdown",
   "metadata": {},
   "source": [
    "### Using cross validation"
   ]
  },
  {
   "cell_type": "code",
   "execution_count": null,
   "metadata": {
    "scrolled": false
   },
   "outputs": [],
   "source": [
    "cv.lasso=cv.glmnet(x,y)\n",
    "plot(cv.lasso)"
   ]
  },
  {
   "cell_type": "markdown",
   "metadata": {},
   "source": [
    "### Coefficient extraction"
   ]
  },
  {
   "cell_type": "code",
   "execution_count": null,
   "metadata": {},
   "outputs": [],
   "source": [
    "coef(cv.lasso)"
   ]
  },
  {
   "cell_type": "markdown",
   "metadata": {},
   "source": [
    "### Train model"
   ]
  },
  {
   "cell_type": "code",
   "execution_count": null,
   "metadata": {
    "collapsed": true,
    "scrolled": true
   },
   "outputs": [],
   "source": [
    "test_x <- model.matrix(Sweetness ~. -1, data = data_test)\n",
    "test_y <- data_test$Sweetness"
   ]
  },
  {
   "cell_type": "code",
   "execution_count": null,
   "metadata": {
    "scrolled": true
   },
   "outputs": [],
   "source": [
    "pred=predict(lasso.tr,test_x)\n",
    "pred"
   ]
  },
  {
   "cell_type": "code",
   "execution_count": null,
   "metadata": {},
   "outputs": [],
   "source": [
    "rmse= sqrt(apply((test_y - pred)^2,2,mean))\n",
    "plot(log(lasso.tr$lambda),rmse,type=\"b\",xlab=\"Log(lambda)\")\n",
    "lam.best=lasso.tr$lambda[order(rmse)[1]]\n",
    "lam.best\n",
    "coef(lasso.tr,s=lam.best)"
   ]
  },
  {
   "cell_type": "code",
   "execution_count": null,
   "metadata": {},
   "outputs": [],
   "source": [
    "sse <- sum((pred - test_y)^2)\n",
    "sst <- sum((test_y - mean(test_y))^2)\n",
    "1 -sse/sst"
   ]
  },
  {
   "cell_type": "code",
   "execution_count": null,
   "metadata": {
    "scrolled": true
   },
   "outputs": [],
   "source": [
    "dim(pred)"
   ]
  },
  {
   "cell_type": "code",
   "execution_count": null,
   "metadata": {},
   "outputs": [],
   "source": [
    "lasso.tr=glmnet(x,y)\n",
    "lasso.tr\n",
    "pred=predict(lasso.tr,test_x)\n",
    "dim(pred)\n",
    "rmse= sqrt(apply((test_y-pred)^2,2,mean))\n",
    "plot(log(lasso.tr$lambda),rmse,type=\"b\",xlab=\"Log(lambda)\")\n",
    "lam.best=lasso.tr$lambda[order(rmse)[1]]\n",
    "lam.best\n",
    "coef(lasso.tr,s=lam.best)"
   ]
  },
  {
   "cell_type": "code",
   "execution_count": null,
   "metadata": {
    "collapsed": true
   },
   "outputs": [],
   "source": []
  }
 ],
 "metadata": {
  "kernelspec": {
   "display_name": "R",
   "language": "R",
   "name": "ir"
  },
  "language_info": {
   "codemirror_mode": "r",
   "file_extension": ".r",
   "mimetype": "text/x-r-source",
   "name": "R",
   "pygments_lexer": "r",
   "version": "3.4.2"
  }
 },
 "nbformat": 4,
 "nbformat_minor": 2
}

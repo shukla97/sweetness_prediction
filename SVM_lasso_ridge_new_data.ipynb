{
 "cells": [
  {
   "cell_type": "markdown",
   "metadata": {},
   "source": [
    "# Sweetness Prediction using lasso and ridge and SVM"
   ]
  },
  {
   "cell_type": "code",
   "execution_count": 27,
   "metadata": {},
   "outputs": [],
   "source": [
    "# loading libraries \n",
    "library(glmnet)\n",
    "library(caTools)\n",
    "set.seed(100)"
   ]
  },
  {
   "cell_type": "code",
   "execution_count": 28,
   "metadata": {
    "collapsed": true
   },
   "outputs": [],
   "source": [
    "# Reading data\n",
    "sp <- read.csv(\"C:/Users/Shubham Shukla/Desktop/internship/new/sweetness_prediction/new_data/ecfp_new.csv\")"
   ]
  },
  {
   "cell_type": "code",
   "execution_count": 29,
   "metadata": {},
   "outputs": [
    {
     "data": {
      "text/html": [
       "<ol class=list-inline>\n",
       "\t<li>310</li>\n",
       "\t<li>2049</li>\n",
       "</ol>\n"
      ],
      "text/latex": [
       "\\begin{enumerate*}\n",
       "\\item 310\n",
       "\\item 2049\n",
       "\\end{enumerate*}\n"
      ],
      "text/markdown": [
       "1. 310\n",
       "2. 2049\n",
       "\n",
       "\n"
      ],
      "text/plain": [
       "[1]  310 2049"
      ]
     },
     "metadata": {},
     "output_type": "display_data"
    }
   ],
   "source": [
    "dim(sp)"
   ]
  },
  {
   "cell_type": "code",
   "execution_count": 30,
   "metadata": {
    "collapsed": true
   },
   "outputs": [],
   "source": [
    "# Splitting data into training and testing set\n",
    "\n",
    "split <- sample.split(sp$logSw, SplitRatio = 0.75)\n",
    "train <- subset(sp, split == T)\n",
    "test <- subset(sp, split == F)"
   ]
  },
  {
   "cell_type": "code",
   "execution_count": 31,
   "metadata": {
    "collapsed": true,
    "scrolled": true
   },
   "outputs": [],
   "source": [
    "train <- subset(train, select = -c(smiles))"
   ]
  },
  {
   "cell_type": "code",
   "execution_count": 32,
   "metadata": {
    "collapsed": true
   },
   "outputs": [],
   "source": [
    "test <- subset(test, select = -c(smiles))"
   ]
  },
  {
   "cell_type": "code",
   "execution_count": 33,
   "metadata": {
    "collapsed": true
   },
   "outputs": [],
   "source": [
    "testx <- model.matrix(logSw ~. -1, data = test)\n",
    "testy <- test$logSw"
   ]
  },
  {
   "cell_type": "code",
   "execution_count": 34,
   "metadata": {
    "collapsed": true
   },
   "outputs": [],
   "source": [
    "# Converting into matrix \n",
    "\n",
    "x <- model.matrix(logSw ~. -1, data = train)\n",
    "y <- train$logSw"
   ]
  },
  {
   "cell_type": "markdown",
   "metadata": {},
   "source": [
    "### Using ridge"
   ]
  },
  {
   "cell_type": "code",
   "execution_count": 35,
   "metadata": {},
   "outputs": [],
   "source": [
    "fit.ridge <- glmnet(x,y, alpha = 0)\n",
    "# plot(fit.ridge, xvar = \"lambda\", label = T)"
   ]
  },
  {
   "cell_type": "code",
   "execution_count": 36,
   "metadata": {},
   "outputs": [],
   "source": [
    "# CV for ridge \n",
    "\n",
    "cv.ridge <- cv.glmnet(x,y, alpha = 0)\n",
    "# plot(cv.ridge)"
   ]
  },
  {
   "cell_type": "markdown",
   "metadata": {},
   "source": [
    "### Using lasso"
   ]
  },
  {
   "cell_type": "code",
   "execution_count": 37,
   "metadata": {},
   "outputs": [],
   "source": [
    "cv.lasso <- cv.glmnet(x,y, alpha = 1, nlambda = 100)\n",
    "# plot(cv.lasso)"
   ]
  },
  {
   "cell_type": "code",
   "execution_count": 38,
   "metadata": {
    "collapsed": true
   },
   "outputs": [],
   "source": [
    "# Model fitting using lasso \n",
    "\n",
    "fit <- glmnet(x,y, alpha = 1, lambda = cv.lasso$lambda.1se)"
   ]
  },
  {
   "cell_type": "code",
   "execution_count": 39,
   "metadata": {},
   "outputs": [
    {
     "data": {
      "text/plain": [
       "\n",
       "Call:  glmnet(x = x, y = y, alpha = 1, lambda = cv.lasso$lambda.1se) \n",
       "\n",
       "     Df   %Dev  Lambda\n",
       "[1,] 81 0.8187 0.06106"
      ]
     },
     "metadata": {},
     "output_type": "display_data"
    }
   ],
   "source": [
    "fit"
   ]
  },
  {
   "cell_type": "code",
   "execution_count": 40,
   "metadata": {},
   "outputs": [
    {
     "data": {
      "text/html": [
       "78"
      ],
      "text/latex": [
       "78"
      ],
      "text/markdown": [
       "78"
      ],
      "text/plain": [
       "[1] 78"
      ]
     },
     "metadata": {},
     "output_type": "display_data"
    }
   ],
   "source": [
    "model.predict <- predict(fit,testx)\n",
    "nrow(model.predict)"
   ]
  },
  {
   "cell_type": "code",
   "execution_count": 41,
   "metadata": {
    "collapsed": true
   },
   "outputs": [],
   "source": [
    "sse <- sum((model.predict - testy)^2)\n",
    "sst <- sum((testy - mean(testy))^2)\n",
    "\n",
    "r_sq <- 1 - (sse/sst)"
   ]
  },
  {
   "cell_type": "code",
   "execution_count": 42,
   "metadata": {},
   "outputs": [
    {
     "data": {
      "text/html": [
       "0.643993098693417"
      ],
      "text/latex": [
       "0.643993098693417"
      ],
      "text/markdown": [
       "0.643993098693417"
      ],
      "text/plain": [
       "[1] 0.6439931"
      ]
     },
     "metadata": {},
     "output_type": "display_data"
    }
   ],
   "source": [
    "r_sq"
   ]
  },
  {
   "cell_type": "code",
   "execution_count": 57,
   "metadata": {},
   "outputs": [],
   "source": [
    "#Comparison of values in model\n",
    "\n",
    "df <- data.frame(testy, model.predict)"
   ]
  },
  {
   "cell_type": "code",
   "execution_count": 55,
   "metadata": {},
   "outputs": [
    {
     "data": {
      "text/html": [
       "<ol class=list-inline>\n",
       "\t<li>78</li>\n",
       "\t<li>2</li>\n",
       "</ol>\n"
      ],
      "text/latex": [
       "\\begin{enumerate*}\n",
       "\\item 78\n",
       "\\item 2\n",
       "\\end{enumerate*}\n"
      ],
      "text/markdown": [
       "1. 78\n",
       "2. 2\n",
       "\n",
       "\n"
      ],
      "text/plain": [
       "[1] 78  2"
      ]
     },
     "metadata": {},
     "output_type": "display_data"
    }
   ],
   "source": [
    "dim(df)"
   ]
  },
  {
   "cell_type": "markdown",
   "metadata": {},
   "source": [
    "# Using SVM for dataset "
   ]
  },
  {
   "cell_type": "code",
   "execution_count": 63,
   "metadata": {
    "collapsed": true
   },
   "outputs": [],
   "source": [
    "#Library for SVM\n",
    "library(e1071)"
   ]
  },
  {
   "cell_type": "code",
   "execution_count": 67,
   "metadata": {
    "collapsed": true
   },
   "outputs": [
    {
     "name": "stderr",
     "output_type": "stream",
     "text": [
      "Warning message in svm.default(x, y, scale = scale, ..., na.action = na.action):\n",
      "\"Variable(s) 'X.7' and 'X.8' and 'X.13' and 'X.15' and 'X.16' and 'X.17' and 'X.19' and 'X.22' and 'X.23' and 'X.34' and 'X.38' and 'X.39' and 'X.42' and 'X.44' and 'X.45' and 'X.47' and 'X.49' and 'X.53' and 'X.55' and 'X.56' and 'X.57' and 'X.59' and 'X.60' and 'X.64' and 'X.65' and 'X.68' and 'X.69' and 'X.70' and 'X.71' and 'X.72' and 'X.74' and 'X.76' and 'X.77' and 'X.78' and 'X.81' and 'X.82' and 'X.83' and 'X.91' and 'X.94' and 'X.96' and 'X.98' and 'X.100' and 'X.101' and 'X.103' and 'X.106' and 'X.111' and 'X.113' and 'X.114' and 'X.115' and 'X.116' and 'X.121' and 'X.126' and 'X.129' and 'X.131' and 'X.134' and 'X.135' and 'X.137' and 'X.140' and 'X.141' and 'X.144' and 'X.146' and 'X.150' and 'X.151' and 'X.155' and 'X.163' and 'X.166' and 'X.167' and 'X.168' and 'X.169' and 'X.171' and 'X.173' and 'X.180' and 'X.182' and 'X.183' and 'X.185' and 'X.186' and 'X.190' and 'X.191' and 'X.192' and 'X.194' and 'X.196' and 'X.197' and 'X.202' and 'X.203' and 'X.204' and 'X.205' and 'X.206' and 'X.207' and 'X.209' and 'X.210' and 'X.213' and 'X.214' and 'X.216' and 'X.219' and 'X.220' and 'X.221' and 'X.223' and 'X.227' and 'X.229' and 'X.230' and 'X.233' and 'X.236' and 'X.237' and 'X.240' and 'X.243' and 'X.247' and 'X.250' and 'X.253' and 'X.255' and 'X.257' and 'X.266' and 'X.271' and 'X.273' and 'X.276' and 'X.279' and 'X.282' and 'X.283' and 'X.285' and 'X.288' and 'X.290' and 'X.291' and 'X.294' and 'X.296' and 'X.299' and 'X.301' and 'X.302' and 'X.304' and 'X.305' and 'X.310' and 'X.311' and 'X.313' and 'X.317' and 'X.319' and 'X.322' and 'X.324' and 'X.332' and 'X.334' and 'X.336' and 'X.341' and 'X.343' and 'X.345' and 'X.346' and 'X.349' and 'X.350' and 'X.351' and 'X.365' and 'X.367' and 'X.372' and 'X.378' and 'X.383' and 'X.386' and 'X.387' and 'X.388' and 'X.391' and 'X.392' and 'X.395' and 'X.399' and 'X.403' and 'X.405' and 'X.408' and 'X.411' and 'X.413' and 'X.414' and 'X.415' and 'X.419' and 'X.420' and 'X.421' and 'X.423' and 'X.426' and 'X.427' and 'X.428' and 'X.430' and 'X.432' and 'X.433' and 'X.436' and 'X.437' and 'X.441' and 'X.447' and 'X.449' and 'X.450' and 'X.451' and 'X.453' and 'X.455' and 'X.467' and 'X.468' and 'X.470' and 'X.476' and 'X.477' and 'X.479' and 'X.486' and 'X.493' and 'X.494' and 'X.499' and 'X.500' and 'X.501' and 'X.506' and 'X.507' and 'X.508' and 'X.509' and 'X.510' and 'X.511' and 'X.513' and 'X.514' and 'X.517' and 'X.518' and 'X.521' and 'X.524' and 'X.525' and 'X.526' and 'X.529' and 'X.532' and 'X.534' and 'X.538' and 'X.540' and 'X.544' and 'X.545' and 'X.546' and 'X.550' and 'X.551' and 'X.552' and 'X.553' and 'X.556' and 'X.561' and 'X.566' and 'X.567' and 'X.570' and 'X.571' and 'X.572' and 'X.577' and 'X.579' and 'X.582' and 'X.590' and 'X.593' and 'X.597' and 'X.598' and 'X.602' and 'X.605' and 'X.608' and 'X.610' and 'X.611' and 'X.613' and 'X.618' and 'X.622' and 'X.626' and 'X.633' and 'X.635' and 'X.637' and 'X.645' and 'X.652' and 'X.653' and 'X.654' and 'X.655' and 'X.656' and 'X.657' and 'X.660' and 'X.665' and 'X.669' and 'X.676' and 'X.680' and 'X.685' and 'X.691' and 'X.695' and 'X.700' and 'X.702' and 'X.705' and 'X.708' and 'X.712' and 'X.713' and 'X.720' and 'X.721' and 'X.725' and 'X.726' and 'X.728' and 'X.729' and 'X.731' and 'X.732' and 'X.733' and 'X.734' and 'X.737' and 'X.738' and 'X.739' and 'X.743' and 'X.748' and 'X.751' and 'X.753' and 'X.755' and 'X.759' and 'X.769' and 'X.770' and 'X.771' and 'X.774' and 'X.783' and 'X.785' and 'X.786' and 'X.787' and 'X.788' and 'X.790' and 'X.792' and 'X.793' and 'X.804' and 'X.809' and 'X.812' and 'X.819' and 'X.821' and 'X.822' and 'X.823' and 'X.825' and 'X.827' and 'X.829' and 'X.830' and 'X.831' and 'X.836' and 'X.839' and 'X.844' and 'X.847' and 'X.851' and 'X.853' and 'X.854' and 'X.856' and 'X.858' and 'X.859' and 'X.862' and 'X.865' and 'X.867' and 'X.876' and 'X.877' and 'X.878' and 'X.879' and 'X.880' and 'X.881' and 'X.884' and 'X.886' and 'X.888' and 'X.891' and 'X.893' and 'X.900' and 'X.906' and 'X.909' and 'X.912' and 'X.915' and 'X.916' and 'X.917' and 'X.926' and 'X.927' and 'X.932' and 'X.935' and 'X.937' and 'X.940' and 'X.942' and 'X.944' and 'X.946' and 'X.947' and 'X.951' and 'X.961' and 'X.962' and 'X.965' and 'X.966' and 'X.967' and 'X.982' and 'X.984' and 'X.986' and 'X.988' and 'X.989' and 'X.993' and 'X.997' and 'X.1002' and 'X.1004' and 'X.1005' and 'X.1007' and 'X.1008' and 'X.1011' and 'X.1015' and 'X.1017' and 'X.1019' and 'X.1022' and 'X.1024' and 'X.1026' and 'X.1038' and 'X.1041' and 'X.1042' and 'X.1046' and 'X.1050' and 'X.1051' and 'X.1052' and 'X.1053' and 'X.1054' and 'X.1056' and 'X.1059' and 'X.1062' and 'X.1064' and 'X.1066' and 'X.1074' and 'X.1078' and 'X.1079' and 'X.1080' and 'X.1084' and 'X.1088' and 'X.1089' and 'X.1090' and 'X.1092' and 'X.1094' and 'X.1098' and 'X.1102' and 'X.1103' and 'X.1104' and 'X.1108' and 'X.1110' and 'X.1112' and 'X.1115' and 'X.1118' and 'X.1124' and 'X.1127' and 'X.1130' and 'X.1134' and 'X.1135' and 'X.1138' and 'X.1140' and 'X.1141' and 'X.1142' and 'X.1143' and 'X.1145' and 'X.1146' and 'X.1147' and 'X.1152' and 'X.1153' and 'X.1155' and 'X.1163' and 'X.1165' and 'X.1166' and 'X.1170' and 'X.1175' and 'X.1176' and 'X.1177' and 'X.1187' and 'X.1188' and 'X.1191' and 'X.1194' and 'X.1197' and 'X.1201' and 'X.1207' and 'X.1208' and 'X.1210' and 'X.1212' and 'X.1214' and 'X.1215' and 'X.1216' and 'X.1217' and 'X.1219' and 'X.1220' and 'X.1223' and 'X.1224' and 'X.1225' and 'X.1226' and 'X.1228' and 'X.1231' and 'X.1233' and 'X.1234' and 'X.1237' and 'X.1242' and 'X.1245' and 'X.1246' and 'X.1256' and 'X.1257' and 'X.1262' and 'X.1264' and 'X.1273' and 'X.1275' and 'X.1276' and 'X.1284' and 'X.1290' and 'X.1293' and 'X.1294' and 'X.1295' and 'X.1303' and 'X.1312' and 'X.1315' and 'X.1316' and 'X.1323' and 'X.1324' and 'X.1328' and 'X.1335' and 'X.1345' and 'X.1347' and 'X.1348' and 'X.1357' and 'X.1362' and 'X.1363' and 'X.1364' and 'X.1369' and 'X.1371' and 'X.1372' and 'X.1376' and 'X.1377' and 'X.1380' and 'X.1383' and 'X.1386' and 'X.1387' and 'X.1391' and 'X.1392' and 'X.1394' and 'X.1397' and 'X.1401' and 'X.1409' and 'X.1413' and 'X.1414' and 'X.1415' and 'X.1419' and 'X.1423' and 'X.1430' and 'X.1433' and 'X.1434' and 'X.1435' and 'X.1437' and 'X.1438' and 'X.1441' and 'X.1446' and 'X.1450' and 'X.1452' and 'X.1458' and 'X.1461' and 'X.1462' and 'X.1464' and 'X.1465' and 'X.1466' and 'X.1469' and 'X.1471' and 'X.1474' and 'X.1475' and 'X.1479' and 'X.1483' and 'X.1493' and 'X.1494' and 'X.1498' and 'X.1501' and 'X.1502' and 'X.1512' and 'X.1513' and 'X.1514' and 'X.1518' and 'X.1519' and 'X.1521' and 'X.1522' and 'X.1523' and 'X.1524' and 'X.1527' and 'X.1530' and 'X.1533' and 'X.1537' and 'X.1538' and 'X.1542' and 'X.1544' and 'X.1547' and 'X.1548' and 'X.1554' and 'X.1555' and 'X.1556' and 'X.1557' and 'X.1559' and 'X.1562' and 'X.1565' and 'X.1569' and 'X.1573' and 'X.1580' and 'X.1582' and 'X.1589' and 'X.1590' and 'X.1592' and 'X.1599' and 'X.1600' and 'X.1603' and 'X.1605' and 'X.1611' and 'X.1612' and 'X.1614' and 'X.1620' and 'X.1622' and 'X.1623' and 'X.1627' and 'X.1631' and 'X.1632' and 'X.1635' and 'X.1636' and 'X.1640' and 'X.1642' and 'X.1648' and 'X.1649' and 'X.1650' and 'X.1651' and 'X.1652' and 'X.1657' and 'X.1661' and 'X.1663' and 'X.1665' and 'X.1666' and 'X.1670' and 'X.1672' and 'X.1678' and 'X.1679' and 'X.1688' and 'X.1692' and 'X.1693' and 'X.1695' and 'X.1702' and 'X.1703' and 'X.1705' and 'X.1710' and 'X.1715' and 'X.1720' and 'X.1722' and 'X.1723' and 'X.1725' and 'X.1729' and 'X.1731' and 'X.1733' and 'X.1734' and 'X.1739' and 'X.1740' and 'X.1742' and 'X.1748' and 'X.1753' and 'X.1754' and 'X.1755' and 'X.1756' and 'X.1758' and 'X.1766' and 'X.1768' and 'X.1772' and 'X.1774' and 'X.1775' and 'X.1777' and 'X.1779' and 'X.1782' and 'X.1788' and 'X.1793' and 'X.1794' and 'X.1801' and 'X.1802' and 'X.1806' and 'X.1811' and 'X.1820' and 'X.1822' and 'X.1823' and 'X.1826' and 'X.1832' and 'X.1837' and 'X.1848' and 'X.1849' and 'X.1854' and 'X.1858' and 'X.1860' and 'X.1863' and 'X.1865' and 'X.1867' and 'X.1874' and 'X.1878' and 'X.1880' and 'X.1881' and 'X.1883' and 'X.1884' and 'X.1885' and 'X.188\""
     ]
    },
    {
     "data": {
      "text/plain": [
       "\n",
       "Call:\n",
       "svm(formula = logSw ~ ., data = train)\n",
       "\n",
       "\n",
       "Parameters:\n",
       "   SVM-Type:  eps-regression \n",
       " SVM-Kernel:  radial \n",
       "       cost:  1 \n",
       "      gamma:  0.0004885198 \n",
       "    epsilon:  0.1 \n",
       "\n",
       "\n",
       "Number of Support Vectors:  201\n",
       "\n",
       "\n",
       "\n",
       "\n"
      ]
     },
     "metadata": {},
     "output_type": "display_data"
    }
   ],
   "source": [
    "#Modelling using svm\n",
    "\n",
    "modelsvm <- svm(logSw ~., data = train)\n",
    "summary(modelsvm)"
   ]
  },
  {
   "cell_type": "code",
   "execution_count": 70,
   "metadata": {
    "collapsed": true
   },
   "outputs": [],
   "source": [
    "pred_svm <- predict(modelsvm, newdata = test)"
   ]
  },
  {
   "cell_type": "code",
   "execution_count": 92,
   "metadata": {},
   "outputs": [
    {
     "data": {
      "text/html": [
       "0.264862390604706"
      ],
      "text/latex": [
       "0.264862390604706"
      ],
      "text/markdown": [
       "0.264862390604706"
      ],
      "text/plain": [
       "[1] 0.2648624"
      ]
     },
     "metadata": {},
     "output_type": "display_data"
    }
   ],
   "source": [
    "sse <- sum((test$logSw - pred_svm)^2)\n",
    "sst <- sum((test$logSw - mean(test$logSw))^2)\n",
    "\n",
    "1 - sse/sst"
   ]
  },
  {
   "cell_type": "code",
   "execution_count": 97,
   "metadata": {},
   "outputs": [],
   "source": [
    "errors <- test$logSw - pred_svm"
   ]
  },
  {
   "cell_type": "code",
   "execution_count": 99,
   "metadata": {
    "scrolled": true
   },
   "outputs": [
    {
     "data": {
      "text/html": [
       "<table>\n",
       "<thead><tr><th></th><th scope=col>test.logSw</th><th scope=col>pred_svm</th><th scope=col>errors</th><th scope=col>X.pred_svm...errors.</th></tr></thead>\n",
       "<tbody>\n",
       "\t<tr><th scope=row>7</th><td>5.88        </td><td>3.651355    </td><td> 2.228645178</td><td>5.88        </td></tr>\n",
       "\t<tr><th scope=row>12</th><td>3.60        </td><td>3.555252    </td><td> 0.044747891</td><td>3.60        </td></tr>\n",
       "\t<tr><th scope=row>15</th><td>4.20        </td><td>3.715420    </td><td> 0.484580329</td><td>4.20        </td></tr>\n",
       "\t<tr><th scope=row>24</th><td>5.00        </td><td>3.693304    </td><td> 1.306695614</td><td>5.00        </td></tr>\n",
       "\t<tr><th scope=row>27</th><td>4.40        </td><td>3.976444    </td><td> 0.423556299</td><td>4.40        </td></tr>\n",
       "\t<tr><th scope=row>28</th><td>1.74        </td><td>3.211901    </td><td>-1.471901068</td><td>1.74        </td></tr>\n",
       "\t<tr><th scope=row>32</th><td>4.00        </td><td>3.988235    </td><td> 0.011765421</td><td>4.00        </td></tr>\n",
       "\t<tr><th scope=row>34</th><td>3.70        </td><td>3.942297    </td><td>-0.242296676</td><td>3.70        </td></tr>\n",
       "\t<tr><th scope=row>36</th><td>3.48        </td><td>3.484779    </td><td>-0.004779355</td><td>3.48        </td></tr>\n",
       "\t<tr><th scope=row>39</th><td>4.11        </td><td>3.503663    </td><td> 0.606336946</td><td>4.11        </td></tr>\n",
       "\t<tr><th scope=row>42</th><td>4.18        </td><td>3.513750    </td><td> 0.666249528</td><td>4.18        </td></tr>\n",
       "\t<tr><th scope=row>43</th><td>3.00        </td><td>3.482899    </td><td>-0.482899287</td><td>3.00        </td></tr>\n",
       "\t<tr><th scope=row>44</th><td>4.78        </td><td>3.960356    </td><td> 0.819644396</td><td>4.78        </td></tr>\n",
       "\t<tr><th scope=row>47</th><td>2.57        </td><td>3.658342    </td><td>-1.088342111</td><td>2.57        </td></tr>\n",
       "\t<tr><th scope=row>48</th><td>3.43        </td><td>3.473164    </td><td>-0.043163610</td><td>3.43        </td></tr>\n",
       "\t<tr><th scope=row>63</th><td>2.91        </td><td>3.644124    </td><td>-0.734124073</td><td>2.91        </td></tr>\n",
       "\t<tr><th scope=row>74</th><td>2.88        </td><td>3.403643    </td><td>-0.523643430</td><td>2.88        </td></tr>\n",
       "\t<tr><th scope=row>77</th><td>2.60        </td><td>3.447054    </td><td>-0.847054457</td><td>2.60        </td></tr>\n",
       "\t<tr><th scope=row>78</th><td>2.68        </td><td>3.452623    </td><td>-0.772623492</td><td>2.68        </td></tr>\n",
       "\t<tr><th scope=row>79</th><td>3.16        </td><td>3.452501    </td><td>-0.292501165</td><td>3.16        </td></tr>\n",
       "\t<tr><th scope=row>83</th><td>2.51        </td><td>3.530329    </td><td>-1.020328662</td><td>2.51        </td></tr>\n",
       "\t<tr><th scope=row>84</th><td>2.88        </td><td>3.523566    </td><td>-0.643566255</td><td>2.88        </td></tr>\n",
       "\t<tr><th scope=row>91</th><td>3.30        </td><td>3.734981    </td><td>-0.434981265</td><td>3.30        </td></tr>\n",
       "\t<tr><th scope=row>95</th><td>3.92        </td><td>3.539758    </td><td> 0.380241946</td><td>3.92        </td></tr>\n",
       "\t<tr><th scope=row>100</th><td>3.26        </td><td>3.502417    </td><td>-0.242416837</td><td>3.26        </td></tr>\n",
       "\t<tr><th scope=row>107</th><td>3.44        </td><td>3.660679    </td><td>-0.220679041</td><td>3.44        </td></tr>\n",
       "\t<tr><th scope=row>111</th><td>2.91        </td><td>3.591739    </td><td>-0.681738759</td><td>2.91        </td></tr>\n",
       "\t<tr><th scope=row>112</th><td>3.23        </td><td>3.625210    </td><td>-0.395210383</td><td>3.23        </td></tr>\n",
       "\t<tr><th scope=row>115</th><td>3.31        </td><td>3.660679    </td><td>-0.350679041</td><td>3.31        </td></tr>\n",
       "\t<tr><th scope=row>117</th><td>2.68        </td><td>3.472022    </td><td>-0.792021653</td><td>2.68        </td></tr>\n",
       "\t<tr><th scope=row>...</th><td>...</td><td>...</td><td>...</td><td>...</td></tr>\n",
       "\t<tr><th scope=row>191</th><td>4.13       </td><td>3.583906   </td><td> 0.54609372</td><td>4.13       </td></tr>\n",
       "\t<tr><th scope=row>194</th><td>3.23       </td><td>3.433650   </td><td>-0.20364998</td><td>3.23       </td></tr>\n",
       "\t<tr><th scope=row>200</th><td>3.30       </td><td>3.527102   </td><td>-0.22710171</td><td>3.30       </td></tr>\n",
       "\t<tr><th scope=row>202</th><td>2.92       </td><td>3.561355   </td><td>-0.64135517</td><td>2.92       </td></tr>\n",
       "\t<tr><th scope=row>203</th><td>3.16       </td><td>3.450274   </td><td>-0.29027444</td><td>3.16       </td></tr>\n",
       "\t<tr><th scope=row>204</th><td>4.54       </td><td>4.054565   </td><td> 0.48543520</td><td>4.54       </td></tr>\n",
       "\t<tr><th scope=row>206</th><td>4.70       </td><td>3.780593   </td><td> 0.91940678</td><td>4.70       </td></tr>\n",
       "\t<tr><th scope=row>207</th><td>5.60       </td><td>3.716888   </td><td> 1.88311221</td><td>5.60       </td></tr>\n",
       "\t<tr><th scope=row>212</th><td>4.30       </td><td>3.997671   </td><td> 0.30232929</td><td>4.30       </td></tr>\n",
       "\t<tr><th scope=row>217</th><td>1.84       </td><td>3.163485   </td><td>-1.32348511</td><td>1.84       </td></tr>\n",
       "\t<tr><th scope=row>224</th><td>4.00       </td><td>4.015186   </td><td>-0.01518641</td><td>4.00       </td></tr>\n",
       "\t<tr><th scope=row>233</th><td>4.30       </td><td>4.178070   </td><td> 0.12192971</td><td>4.30       </td></tr>\n",
       "\t<tr><th scope=row>239</th><td>4.82       </td><td>4.147484   </td><td> 0.67251574</td><td>4.82       </td></tr>\n",
       "\t<tr><th scope=row>240</th><td>3.90       </td><td>4.225496   </td><td>-0.32549647</td><td>3.90       </td></tr>\n",
       "\t<tr><th scope=row>252</th><td>1.40       </td><td>3.147750   </td><td>-1.74775020</td><td>1.40       </td></tr>\n",
       "\t<tr><th scope=row>255</th><td>7.35       </td><td>4.153270   </td><td> 3.19673029</td><td>7.35       </td></tr>\n",
       "\t<tr><th scope=row>256</th><td>1.94       </td><td>3.247470   </td><td>-1.30747048</td><td>1.94       </td></tr>\n",
       "\t<tr><th scope=row>260</th><td>3.92       </td><td>3.847135   </td><td> 0.07286517</td><td>3.92       </td></tr>\n",
       "\t<tr><th scope=row>262</th><td>4.00       </td><td>4.133709   </td><td>-0.13370907</td><td>4.00       </td></tr>\n",
       "\t<tr><th scope=row>264</th><td>5.89       </td><td>4.031182   </td><td> 1.85881845</td><td>5.89       </td></tr>\n",
       "\t<tr><th scope=row>265</th><td>4.65       </td><td>4.002628   </td><td> 0.64737207</td><td>4.65       </td></tr>\n",
       "\t<tr><th scope=row>266</th><td>4.70       </td><td>3.556869   </td><td> 1.14313101</td><td>4.70       </td></tr>\n",
       "\t<tr><th scope=row>269</th><td>4.00       </td><td>4.287686   </td><td>-0.28768572</td><td>4.00       </td></tr>\n",
       "\t<tr><th scope=row>270</th><td>4.54       </td><td>4.234086   </td><td> 0.30591379</td><td>4.54       </td></tr>\n",
       "\t<tr><th scope=row>288</th><td>4.57       </td><td>3.836620   </td><td> 0.73338032</td><td>4.57       </td></tr>\n",
       "\t<tr><th scope=row>298</th><td>7.30       </td><td>3.794247   </td><td> 3.50575337</td><td>7.30       </td></tr>\n",
       "\t<tr><th scope=row>301</th><td>6.15       </td><td>4.198797   </td><td> 1.95120280</td><td>6.15       </td></tr>\n",
       "\t<tr><th scope=row>303</th><td>3.90       </td><td>4.183616   </td><td>-0.28361576</td><td>3.90       </td></tr>\n",
       "\t<tr><th scope=row>306</th><td>1.63       </td><td>3.337501   </td><td>-1.70750098</td><td>1.63       </td></tr>\n",
       "\t<tr><th scope=row>310</th><td>1.72       </td><td>3.155669   </td><td>-1.43566878</td><td>1.72       </td></tr>\n",
       "</tbody>\n",
       "</table>\n"
      ],
      "text/latex": [
       "\\begin{tabular}{r|llll}\n",
       "  & test.logSw & pred\\_svm & errors & X.pred\\_svm...errors.\\\\\n",
       "\\hline\n",
       "\t7 & 5.88         & 3.651355     &  2.228645178 & 5.88        \\\\\n",
       "\t12 & 3.60         & 3.555252     &  0.044747891 & 3.60        \\\\\n",
       "\t15 & 4.20         & 3.715420     &  0.484580329 & 4.20        \\\\\n",
       "\t24 & 5.00         & 3.693304     &  1.306695614 & 5.00        \\\\\n",
       "\t27 & 4.40         & 3.976444     &  0.423556299 & 4.40        \\\\\n",
       "\t28 & 1.74         & 3.211901     & -1.471901068 & 1.74        \\\\\n",
       "\t32 & 4.00         & 3.988235     &  0.011765421 & 4.00        \\\\\n",
       "\t34 & 3.70         & 3.942297     & -0.242296676 & 3.70        \\\\\n",
       "\t36 & 3.48         & 3.484779     & -0.004779355 & 3.48        \\\\\n",
       "\t39 & 4.11         & 3.503663     &  0.606336946 & 4.11        \\\\\n",
       "\t42 & 4.18         & 3.513750     &  0.666249528 & 4.18        \\\\\n",
       "\t43 & 3.00         & 3.482899     & -0.482899287 & 3.00        \\\\\n",
       "\t44 & 4.78         & 3.960356     &  0.819644396 & 4.78        \\\\\n",
       "\t47 & 2.57         & 3.658342     & -1.088342111 & 2.57        \\\\\n",
       "\t48 & 3.43         & 3.473164     & -0.043163610 & 3.43        \\\\\n",
       "\t63 & 2.91         & 3.644124     & -0.734124073 & 2.91        \\\\\n",
       "\t74 & 2.88         & 3.403643     & -0.523643430 & 2.88        \\\\\n",
       "\t77 & 2.60         & 3.447054     & -0.847054457 & 2.60        \\\\\n",
       "\t78 & 2.68         & 3.452623     & -0.772623492 & 2.68        \\\\\n",
       "\t79 & 3.16         & 3.452501     & -0.292501165 & 3.16        \\\\\n",
       "\t83 & 2.51         & 3.530329     & -1.020328662 & 2.51        \\\\\n",
       "\t84 & 2.88         & 3.523566     & -0.643566255 & 2.88        \\\\\n",
       "\t91 & 3.30         & 3.734981     & -0.434981265 & 3.30        \\\\\n",
       "\t95 & 3.92         & 3.539758     &  0.380241946 & 3.92        \\\\\n",
       "\t100 & 3.26         & 3.502417     & -0.242416837 & 3.26        \\\\\n",
       "\t107 & 3.44         & 3.660679     & -0.220679041 & 3.44        \\\\\n",
       "\t111 & 2.91         & 3.591739     & -0.681738759 & 2.91        \\\\\n",
       "\t112 & 3.23         & 3.625210     & -0.395210383 & 3.23        \\\\\n",
       "\t115 & 3.31         & 3.660679     & -0.350679041 & 3.31        \\\\\n",
       "\t117 & 2.68         & 3.472022     & -0.792021653 & 2.68        \\\\\n",
       "\t... & ... & ... & ... & ...\\\\\n",
       "\t191 & 4.13        & 3.583906    &  0.54609372 & 4.13       \\\\\n",
       "\t194 & 3.23        & 3.433650    & -0.20364998 & 3.23       \\\\\n",
       "\t200 & 3.30        & 3.527102    & -0.22710171 & 3.30       \\\\\n",
       "\t202 & 2.92        & 3.561355    & -0.64135517 & 2.92       \\\\\n",
       "\t203 & 3.16        & 3.450274    & -0.29027444 & 3.16       \\\\\n",
       "\t204 & 4.54        & 4.054565    &  0.48543520 & 4.54       \\\\\n",
       "\t206 & 4.70        & 3.780593    &  0.91940678 & 4.70       \\\\\n",
       "\t207 & 5.60        & 3.716888    &  1.88311221 & 5.60       \\\\\n",
       "\t212 & 4.30        & 3.997671    &  0.30232929 & 4.30       \\\\\n",
       "\t217 & 1.84        & 3.163485    & -1.32348511 & 1.84       \\\\\n",
       "\t224 & 4.00        & 4.015186    & -0.01518641 & 4.00       \\\\\n",
       "\t233 & 4.30        & 4.178070    &  0.12192971 & 4.30       \\\\\n",
       "\t239 & 4.82        & 4.147484    &  0.67251574 & 4.82       \\\\\n",
       "\t240 & 3.90        & 4.225496    & -0.32549647 & 3.90       \\\\\n",
       "\t252 & 1.40        & 3.147750    & -1.74775020 & 1.40       \\\\\n",
       "\t255 & 7.35        & 4.153270    &  3.19673029 & 7.35       \\\\\n",
       "\t256 & 1.94        & 3.247470    & -1.30747048 & 1.94       \\\\\n",
       "\t260 & 3.92        & 3.847135    &  0.07286517 & 3.92       \\\\\n",
       "\t262 & 4.00        & 4.133709    & -0.13370907 & 4.00       \\\\\n",
       "\t264 & 5.89        & 4.031182    &  1.85881845 & 5.89       \\\\\n",
       "\t265 & 4.65        & 4.002628    &  0.64737207 & 4.65       \\\\\n",
       "\t266 & 4.70        & 3.556869    &  1.14313101 & 4.70       \\\\\n",
       "\t269 & 4.00        & 4.287686    & -0.28768572 & 4.00       \\\\\n",
       "\t270 & 4.54        & 4.234086    &  0.30591379 & 4.54       \\\\\n",
       "\t288 & 4.57        & 3.836620    &  0.73338032 & 4.57       \\\\\n",
       "\t298 & 7.30        & 3.794247    &  3.50575337 & 7.30       \\\\\n",
       "\t301 & 6.15        & 4.198797    &  1.95120280 & 6.15       \\\\\n",
       "\t303 & 3.90        & 4.183616    & -0.28361576 & 3.90       \\\\\n",
       "\t306 & 1.63        & 3.337501    & -1.70750098 & 1.63       \\\\\n",
       "\t310 & 1.72        & 3.155669    & -1.43566878 & 1.72       \\\\\n",
       "\\end{tabular}\n"
      ],
      "text/markdown": [
       "\n",
       "| <!--/--> | test.logSw | pred_svm | errors | X.pred_svm...errors. | \n",
       "|---|---|---|---|---|---|---|---|---|---|---|---|---|---|---|---|---|---|---|---|---|---|---|---|---|---|---|---|---|---|---|---|---|---|---|---|---|---|---|---|---|---|---|---|---|---|---|---|---|---|---|---|---|---|---|---|---|---|---|---|---|\n",
       "| 7 | 5.88         | 3.651355     |  2.228645178 | 5.88         | \n",
       "| 12 | 3.60         | 3.555252     |  0.044747891 | 3.60         | \n",
       "| 15 | 4.20         | 3.715420     |  0.484580329 | 4.20         | \n",
       "| 24 | 5.00         | 3.693304     |  1.306695614 | 5.00         | \n",
       "| 27 | 4.40         | 3.976444     |  0.423556299 | 4.40         | \n",
       "| 28 | 1.74         | 3.211901     | -1.471901068 | 1.74         | \n",
       "| 32 | 4.00         | 3.988235     |  0.011765421 | 4.00         | \n",
       "| 34 | 3.70         | 3.942297     | -0.242296676 | 3.70         | \n",
       "| 36 | 3.48         | 3.484779     | -0.004779355 | 3.48         | \n",
       "| 39 | 4.11         | 3.503663     |  0.606336946 | 4.11         | \n",
       "| 42 | 4.18         | 3.513750     |  0.666249528 | 4.18         | \n",
       "| 43 | 3.00         | 3.482899     | -0.482899287 | 3.00         | \n",
       "| 44 | 4.78         | 3.960356     |  0.819644396 | 4.78         | \n",
       "| 47 | 2.57         | 3.658342     | -1.088342111 | 2.57         | \n",
       "| 48 | 3.43         | 3.473164     | -0.043163610 | 3.43         | \n",
       "| 63 | 2.91         | 3.644124     | -0.734124073 | 2.91         | \n",
       "| 74 | 2.88         | 3.403643     | -0.523643430 | 2.88         | \n",
       "| 77 | 2.60         | 3.447054     | -0.847054457 | 2.60         | \n",
       "| 78 | 2.68         | 3.452623     | -0.772623492 | 2.68         | \n",
       "| 79 | 3.16         | 3.452501     | -0.292501165 | 3.16         | \n",
       "| 83 | 2.51         | 3.530329     | -1.020328662 | 2.51         | \n",
       "| 84 | 2.88         | 3.523566     | -0.643566255 | 2.88         | \n",
       "| 91 | 3.30         | 3.734981     | -0.434981265 | 3.30         | \n",
       "| 95 | 3.92         | 3.539758     |  0.380241946 | 3.92         | \n",
       "| 100 | 3.26         | 3.502417     | -0.242416837 | 3.26         | \n",
       "| 107 | 3.44         | 3.660679     | -0.220679041 | 3.44         | \n",
       "| 111 | 2.91         | 3.591739     | -0.681738759 | 2.91         | \n",
       "| 112 | 3.23         | 3.625210     | -0.395210383 | 3.23         | \n",
       "| 115 | 3.31         | 3.660679     | -0.350679041 | 3.31         | \n",
       "| 117 | 2.68         | 3.472022     | -0.792021653 | 2.68         | \n",
       "| ... | ... | ... | ... | ... | \n",
       "| 191 | 4.13        | 3.583906    |  0.54609372 | 4.13        | \n",
       "| 194 | 3.23        | 3.433650    | -0.20364998 | 3.23        | \n",
       "| 200 | 3.30        | 3.527102    | -0.22710171 | 3.30        | \n",
       "| 202 | 2.92        | 3.561355    | -0.64135517 | 2.92        | \n",
       "| 203 | 3.16        | 3.450274    | -0.29027444 | 3.16        | \n",
       "| 204 | 4.54        | 4.054565    |  0.48543520 | 4.54        | \n",
       "| 206 | 4.70        | 3.780593    |  0.91940678 | 4.70        | \n",
       "| 207 | 5.60        | 3.716888    |  1.88311221 | 5.60        | \n",
       "| 212 | 4.30        | 3.997671    |  0.30232929 | 4.30        | \n",
       "| 217 | 1.84        | 3.163485    | -1.32348511 | 1.84        | \n",
       "| 224 | 4.00        | 4.015186    | -0.01518641 | 4.00        | \n",
       "| 233 | 4.30        | 4.178070    |  0.12192971 | 4.30        | \n",
       "| 239 | 4.82        | 4.147484    |  0.67251574 | 4.82        | \n",
       "| 240 | 3.90        | 4.225496    | -0.32549647 | 3.90        | \n",
       "| 252 | 1.40        | 3.147750    | -1.74775020 | 1.40        | \n",
       "| 255 | 7.35        | 4.153270    |  3.19673029 | 7.35        | \n",
       "| 256 | 1.94        | 3.247470    | -1.30747048 | 1.94        | \n",
       "| 260 | 3.92        | 3.847135    |  0.07286517 | 3.92        | \n",
       "| 262 | 4.00        | 4.133709    | -0.13370907 | 4.00        | \n",
       "| 264 | 5.89        | 4.031182    |  1.85881845 | 5.89        | \n",
       "| 265 | 4.65        | 4.002628    |  0.64737207 | 4.65        | \n",
       "| 266 | 4.70        | 3.556869    |  1.14313101 | 4.70        | \n",
       "| 269 | 4.00        | 4.287686    | -0.28768572 | 4.00        | \n",
       "| 270 | 4.54        | 4.234086    |  0.30591379 | 4.54        | \n",
       "| 288 | 4.57        | 3.836620    |  0.73338032 | 4.57        | \n",
       "| 298 | 7.30        | 3.794247    |  3.50575337 | 7.30        | \n",
       "| 301 | 6.15        | 4.198797    |  1.95120280 | 6.15        | \n",
       "| 303 | 3.90        | 4.183616    | -0.28361576 | 3.90        | \n",
       "| 306 | 1.63        | 3.337501    | -1.70750098 | 1.63        | \n",
       "| 310 | 1.72        | 3.155669    | -1.43566878 | 1.72        | \n",
       "\n",
       "\n"
      ],
      "text/plain": [
       "    test.logSw pred_svm errors       X.pred_svm...errors.\n",
       "7   5.88       3.651355  2.228645178 5.88                \n",
       "12  3.60       3.555252  0.044747891 3.60                \n",
       "15  4.20       3.715420  0.484580329 4.20                \n",
       "24  5.00       3.693304  1.306695614 5.00                \n",
       "27  4.40       3.976444  0.423556299 4.40                \n",
       "28  1.74       3.211901 -1.471901068 1.74                \n",
       "32  4.00       3.988235  0.011765421 4.00                \n",
       "34  3.70       3.942297 -0.242296676 3.70                \n",
       "36  3.48       3.484779 -0.004779355 3.48                \n",
       "39  4.11       3.503663  0.606336946 4.11                \n",
       "42  4.18       3.513750  0.666249528 4.18                \n",
       "43  3.00       3.482899 -0.482899287 3.00                \n",
       "44  4.78       3.960356  0.819644396 4.78                \n",
       "47  2.57       3.658342 -1.088342111 2.57                \n",
       "48  3.43       3.473164 -0.043163610 3.43                \n",
       "63  2.91       3.644124 -0.734124073 2.91                \n",
       "74  2.88       3.403643 -0.523643430 2.88                \n",
       "77  2.60       3.447054 -0.847054457 2.60                \n",
       "78  2.68       3.452623 -0.772623492 2.68                \n",
       "79  3.16       3.452501 -0.292501165 3.16                \n",
       "83  2.51       3.530329 -1.020328662 2.51                \n",
       "84  2.88       3.523566 -0.643566255 2.88                \n",
       "91  3.30       3.734981 -0.434981265 3.30                \n",
       "95  3.92       3.539758  0.380241946 3.92                \n",
       "100 3.26       3.502417 -0.242416837 3.26                \n",
       "107 3.44       3.660679 -0.220679041 3.44                \n",
       "111 2.91       3.591739 -0.681738759 2.91                \n",
       "112 3.23       3.625210 -0.395210383 3.23                \n",
       "115 3.31       3.660679 -0.350679041 3.31                \n",
       "117 2.68       3.472022 -0.792021653 2.68                \n",
       "... ...        ...      ...          ...                 \n",
       "191 4.13       3.583906  0.54609372  4.13                \n",
       "194 3.23       3.433650 -0.20364998  3.23                \n",
       "200 3.30       3.527102 -0.22710171  3.30                \n",
       "202 2.92       3.561355 -0.64135517  2.92                \n",
       "203 3.16       3.450274 -0.29027444  3.16                \n",
       "204 4.54       4.054565  0.48543520  4.54                \n",
       "206 4.70       3.780593  0.91940678  4.70                \n",
       "207 5.60       3.716888  1.88311221  5.60                \n",
       "212 4.30       3.997671  0.30232929  4.30                \n",
       "217 1.84       3.163485 -1.32348511  1.84                \n",
       "224 4.00       4.015186 -0.01518641  4.00                \n",
       "233 4.30       4.178070  0.12192971  4.30                \n",
       "239 4.82       4.147484  0.67251574  4.82                \n",
       "240 3.90       4.225496 -0.32549647  3.90                \n",
       "252 1.40       3.147750 -1.74775020  1.40                \n",
       "255 7.35       4.153270  3.19673029  7.35                \n",
       "256 1.94       3.247470 -1.30747048  1.94                \n",
       "260 3.92       3.847135  0.07286517  3.92                \n",
       "262 4.00       4.133709 -0.13370907  4.00                \n",
       "264 5.89       4.031182  1.85881845  5.89                \n",
       "265 4.65       4.002628  0.64737207  4.65                \n",
       "266 4.70       3.556869  1.14313101  4.70                \n",
       "269 4.00       4.287686 -0.28768572  4.00                \n",
       "270 4.54       4.234086  0.30591379  4.54                \n",
       "288 4.57       3.836620  0.73338032  4.57                \n",
       "298 7.30       3.794247  3.50575337  7.30                \n",
       "301 6.15       4.198797  1.95120280  6.15                \n",
       "303 3.90       4.183616 -0.28361576  3.90                \n",
       "306 1.63       3.337501 -1.70750098  1.63                \n",
       "310 1.72       3.155669 -1.43566878  1.72                "
      ]
     },
     "metadata": {},
     "output_type": "display_data"
    }
   ],
   "source": [
    "data.frame(test$logSw, pred_svm, errors, (pred_svm+errors))"
   ]
  },
  {
   "cell_type": "code",
   "execution_count": null,
   "metadata": {
    "collapsed": true
   },
   "outputs": [],
   "source": []
  }
 ],
 "metadata": {
  "kernelspec": {
   "display_name": "R",
   "language": "R",
   "name": "ir"
  },
  "language_info": {
   "codemirror_mode": "r",
   "file_extension": ".r",
   "mimetype": "text/x-r-source",
   "name": "R",
   "pygments_lexer": "r",
   "version": "3.4.2"
  }
 },
 "nbformat": 4,
 "nbformat_minor": 2
}

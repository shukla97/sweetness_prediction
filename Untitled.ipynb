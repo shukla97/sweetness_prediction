{
 "cells": [
  {
   "cell_type": "markdown",
   "metadata": {},
   "source": [
    "# Sweetness prediction using molecular descriptor values"
   ]
  },
  {
   "cell_type": "code",
   "execution_count": 12,
   "metadata": {},
   "outputs": [],
   "source": [
    "library(glmnet)\n",
    "library(caTools)\n",
    "set.seed(100)"
   ]
  },
  {
   "cell_type": "code",
   "execution_count": 13,
   "metadata": {
    "collapsed": true
   },
   "outputs": [],
   "source": [
    "# Reading data\n",
    "sp <- read.csv(\"C:/Users/Shubham Shukla/Desktop/internship/new/sweetness_prediction/new_data/ecfp_new.csv\")"
   ]
  },
  {
   "cell_type": "code",
   "execution_count": 14,
   "metadata": {
    "collapsed": true
   },
   "outputs": [],
   "source": [
    "# Splitting data into training and testing set\n",
    "\n",
    "split <- sample.split(sp$logSw, SplitRatio = 0.75)\n",
    "train <- subset(sp, split == T, select = -c(smiles))\n",
    "test <- subset(sp, split == F, select = -c(smiles))"
   ]
  },
  {
   "cell_type": "code",
   "execution_count": 15,
   "metadata": {
    "collapsed": true
   },
   "outputs": [],
   "source": [
    "#Converting into matrix for lasso\n",
    "\n",
    "x <- model.matrix(logSw ~.-1, data = train)\n",
    "y <- train$logSw"
   ]
  },
  {
   "cell_type": "code",
   "execution_count": 16,
   "metadata": {
    "collapsed": true
   },
   "outputs": [],
   "source": [
    "testx <- model.matrix(logSw ~.-1, data = test)\n",
    "testy <- test$logSw"
   ]
  },
  {
   "cell_type": "code",
   "execution_count": 17,
   "metadata": {
    "collapsed": true
   },
   "outputs": [
    {
     "data": {
      "image/png": "[encoded data removed]",
      "text/plain": [
       "plot without title"
      ]
     },
     "metadata": {},
     "output_type": "display_data"
    }
   ],
   "source": [
    "#Using cv in lasso to choose best model\n",
    "\n",
    "cv.lasso <- cv.glmnet(x,y, alpha = 1, nlambda= 100)\n",
    "plot(cv.lasso)"
   ]
  },
  {
   "cell_type": "code",
   "execution_count": 18,
   "metadata": {},
   "outputs": [
    {
     "data": {
      "text/plain": [
       "\n",
       "Call:  glmnet(x = x, y = y, alpha = 1, lambda = cv.lasso$lambda.1se) \n",
       "\n",
       "     Df   %Dev  Lambda\n",
       "[1,] 63 0.7806 0.07355"
      ]
     },
     "metadata": {},
     "output_type": "display_data"
    }
   ],
   "source": [
    "#Model fit using cv.lasso value\n",
    "\n",
    "fit <- glmnet(x,y,lambda = cv.lasso$lambda.1se, alpha = 1)\n",
    "fit"
   ]
  },
  {
   "cell_type": "code",
   "execution_count": 19,
   "metadata": {},
   "outputs": [
    {
     "data": {
      "text/plain": [
       "\n",
       "Call:  glmnet(x = x, y = y, alpha = 1, lambda = cv.lasso$lambda.min) \n",
       "\n",
       "      Df   %Dev  Lambda\n",
       "[1,] 136 0.9263 0.02299"
      ]
     },
     "metadata": {},
     "output_type": "display_data"
    }
   ],
   "source": [
    "fit1 <- glmnet(x,y, lambda = cv.lasso$lambda.min, alpha = 1)\n",
    "\n",
    "fit1"
   ]
  },
  {
   "cell_type": "code",
   "execution_count": 20,
   "metadata": {
    "collapsed": true
   },
   "outputs": [],
   "source": [
    "# Predict using model\n",
    "\n",
    "model.predict <- predict(fit, testx)\n"
   ]
  },
  {
   "cell_type": "code",
   "execution_count": 21,
   "metadata": {
    "scrolled": true
   },
   "outputs": [
    {
     "data": {
      "text/html": [
       "0.614136590498633"
      ],
      "text/latex": [
       "0.614136590498633"
      ],
      "text/markdown": [
       "0.614136590498633"
      ],
      "text/plain": [
       "[1] 0.6141366"
      ]
     },
     "metadata": {},
     "output_type": "display_data"
    }
   ],
   "source": [
    "sse <- sum((model.predict - testy)^2)\n",
    "sst <- sum((testy - mean(y))^2)\n",
    "\n",
    "r_sq1 <- 1 - (sse/sst)\n",
    "r_sq1"
   ]
  },
  {
   "cell_type": "markdown",
   "metadata": {
    "collapsed": true
   },
   "source": [
    "# Using SVM"
   ]
  },
  {
   "cell_type": "code",
   "execution_count": 22,
   "metadata": {
    "collapsed": true
   },
   "outputs": [],
   "source": [
    "library(e1071)"
   ]
  },
  {
   "cell_type": "code",
   "execution_count": 23,
   "metadata": {
    "collapsed": true
   },
   "outputs": [
    {
     "name": "stderr",
     "output_type": "stream",
     "text": [
      "Warning message in svm.default(x, y, scale = scale, ..., na.action = na.action):\n",
      "\"Variable(s) 'X.7' and 'X.8' and 'X.13' and 'X.15' and 'X.16' and 'X.17' and 'X.19' and 'X.22' and 'X.23' and 'X.34' and 'X.38' and 'X.39' and 'X.42' and 'X.44' and 'X.45' and 'X.47' and 'X.49' and 'X.53' and 'X.55' and 'X.56' and 'X.57' and 'X.59' and 'X.60' and 'X.64' and 'X.65' and 'X.68' and 'X.69' and 'X.70' and 'X.71' and 'X.72' and 'X.74' and 'X.76' and 'X.77' and 'X.78' and 'X.81' and 'X.82' and 'X.83' and 'X.91' and 'X.94' and 'X.96' and 'X.98' and 'X.100' and 'X.101' and 'X.103' and 'X.106' and 'X.111' and 'X.113' and 'X.114' and 'X.115' and 'X.116' and 'X.121' and 'X.126' and 'X.129' and 'X.131' and 'X.134' and 'X.135' and 'X.137' and 'X.140' and 'X.141' and 'X.144' and 'X.146' and 'X.150' and 'X.151' and 'X.155' and 'X.163' and 'X.166' and 'X.167' and 'X.168' and 'X.169' and 'X.171' and 'X.173' and 'X.180' and 'X.182' and 'X.183' and 'X.185' and 'X.186' and 'X.190' and 'X.191' and 'X.192' and 'X.194' and 'X.196' and 'X.197' and 'X.202' and 'X.203' and 'X.204' and 'X.205' and 'X.206' and 'X.207' and 'X.209' and 'X.210' and 'X.213' and 'X.214' and 'X.216' and 'X.219' and 'X.220' and 'X.221' and 'X.223' and 'X.227' and 'X.229' and 'X.230' and 'X.233' and 'X.236' and 'X.237' and 'X.240' and 'X.243' and 'X.247' and 'X.250' and 'X.253' and 'X.255' and 'X.257' and 'X.266' and 'X.271' and 'X.273' and 'X.276' and 'X.279' and 'X.282' and 'X.283' and 'X.285' and 'X.288' and 'X.290' and 'X.291' and 'X.294' and 'X.296' and 'X.299' and 'X.301' and 'X.302' and 'X.304' and 'X.305' and 'X.310' and 'X.311' and 'X.313' and 'X.317' and 'X.319' and 'X.322' and 'X.324' and 'X.332' and 'X.334' and 'X.336' and 'X.341' and 'X.343' and 'X.345' and 'X.346' and 'X.349' and 'X.350' and 'X.351' and 'X.365' and 'X.367' and 'X.372' and 'X.378' and 'X.383' and 'X.386' and 'X.387' and 'X.388' and 'X.391' and 'X.392' and 'X.395' and 'X.399' and 'X.403' and 'X.405' and 'X.408' and 'X.411' and 'X.413' and 'X.414' and 'X.415' and 'X.419' and 'X.420' and 'X.421' and 'X.423' and 'X.426' and 'X.427' and 'X.428' and 'X.430' and 'X.432' and 'X.433' and 'X.436' and 'X.437' and 'X.441' and 'X.447' and 'X.449' and 'X.450' and 'X.451' and 'X.453' and 'X.455' and 'X.467' and 'X.468' and 'X.470' and 'X.476' and 'X.477' and 'X.479' and 'X.486' and 'X.493' and 'X.494' and 'X.499' and 'X.500' and 'X.501' and 'X.506' and 'X.507' and 'X.508' and 'X.509' and 'X.510' and 'X.511' and 'X.513' and 'X.514' and 'X.517' and 'X.518' and 'X.521' and 'X.524' and 'X.525' and 'X.526' and 'X.529' and 'X.532' and 'X.534' and 'X.538' and 'X.540' and 'X.544' and 'X.545' and 'X.546' and 'X.550' and 'X.551' and 'X.552' and 'X.553' and 'X.556' and 'X.561' and 'X.566' and 'X.567' and 'X.570' and 'X.571' and 'X.572' and 'X.577' and 'X.579' and 'X.582' and 'X.590' and 'X.593' and 'X.597' and 'X.598' and 'X.602' and 'X.605' and 'X.608' and 'X.610' and 'X.611' and 'X.613' and 'X.618' and 'X.622' and 'X.626' and 'X.633' and 'X.635' and 'X.637' and 'X.645' and 'X.652' and 'X.653' and 'X.654' and 'X.655' and 'X.656' and 'X.657' and 'X.660' and 'X.665' and 'X.669' and 'X.676' and 'X.680' and 'X.685' and 'X.691' and 'X.695' and 'X.700' and 'X.702' and 'X.705' and 'X.708' and 'X.712' and 'X.713' and 'X.720' and 'X.721' and 'X.725' and 'X.726' and 'X.728' and 'X.729' and 'X.731' and 'X.732' and 'X.733' and 'X.734' and 'X.737' and 'X.738' and 'X.739' and 'X.743' and 'X.748' and 'X.751' and 'X.753' and 'X.755' and 'X.759' and 'X.769' and 'X.770' and 'X.771' and 'X.774' and 'X.783' and 'X.785' and 'X.786' and 'X.787' and 'X.788' and 'X.790' and 'X.792' and 'X.793' and 'X.804' and 'X.809' and 'X.812' and 'X.819' and 'X.821' and 'X.822' and 'X.823' and 'X.825' and 'X.827' and 'X.829' and 'X.830' and 'X.831' and 'X.836' and 'X.839' and 'X.844' and 'X.847' and 'X.851' and 'X.853' and 'X.854' and 'X.856' and 'X.858' and 'X.859' and 'X.862' and 'X.865' and 'X.867' and 'X.876' and 'X.877' and 'X.878' and 'X.879' and 'X.880' and 'X.881' and 'X.884' and 'X.886' and 'X.888' and 'X.891' and 'X.893' and 'X.900' and 'X.906' and 'X.909' and 'X.912' and 'X.915' and 'X.916' and 'X.917' and 'X.926' and 'X.927' and 'X.932' and 'X.935' and 'X.937' and 'X.940' and 'X.942' and 'X.944' and 'X.946' and 'X.947' and 'X.951' and 'X.961' and 'X.962' and 'X.965' and 'X.966' and 'X.967' and 'X.982' and 'X.984' and 'X.986' and 'X.988' and 'X.989' and 'X.993' and 'X.997' and 'X.1002' and 'X.1004' and 'X.1005' and 'X.1007' and 'X.1008' and 'X.1011' and 'X.1015' and 'X.1017' and 'X.1019' and 'X.1022' and 'X.1024' and 'X.1026' and 'X.1038' and 'X.1041' and 'X.1042' and 'X.1046' and 'X.1050' and 'X.1051' and 'X.1052' and 'X.1053' and 'X.1054' and 'X.1056' and 'X.1059' and 'X.1062' and 'X.1064' and 'X.1066' and 'X.1074' and 'X.1078' and 'X.1079' and 'X.1080' and 'X.1084' and 'X.1088' and 'X.1089' and 'X.1090' and 'X.1092' and 'X.1094' and 'X.1098' and 'X.1102' and 'X.1103' and 'X.1104' and 'X.1108' and 'X.1110' and 'X.1112' and 'X.1115' and 'X.1118' and 'X.1124' and 'X.1127' and 'X.1130' and 'X.1134' and 'X.1135' and 'X.1138' and 'X.1140' and 'X.1141' and 'X.1142' and 'X.1143' and 'X.1145' and 'X.1146' and 'X.1147' and 'X.1152' and 'X.1153' and 'X.1155' and 'X.1163' and 'X.1165' and 'X.1166' and 'X.1170' and 'X.1175' and 'X.1176' and 'X.1177' and 'X.1187' and 'X.1188' and 'X.1191' and 'X.1194' and 'X.1197' and 'X.1201' and 'X.1207' and 'X.1208' and 'X.1210' and 'X.1212' and 'X.1214' and 'X.1215' and 'X.1216' and 'X.1217' and 'X.1219' and 'X.1220' and 'X.1223' and 'X.1224' and 'X.1225' and 'X.1226' and 'X.1228' and 'X.1231' and 'X.1233' and 'X.1234' and 'X.1237' and 'X.1242' and 'X.1245' and 'X.1246' and 'X.1256' and 'X.1257' and 'X.1262' and 'X.1264' and 'X.1273' and 'X.1275' and 'X.1276' and 'X.1284' and 'X.1290' and 'X.1293' and 'X.1294' and 'X.1295' and 'X.1303' and 'X.1312' and 'X.1315' and 'X.1316' and 'X.1323' and 'X.1324' and 'X.1328' and 'X.1335' and 'X.1345' and 'X.1347' and 'X.1348' and 'X.1357' and 'X.1362' and 'X.1363' and 'X.1364' and 'X.1369' and 'X.1371' and 'X.1372' and 'X.1376' and 'X.1377' and 'X.1380' and 'X.1383' and 'X.1386' and 'X.1387' and 'X.1391' and 'X.1392' and 'X.1394' and 'X.1397' and 'X.1401' and 'X.1409' and 'X.1413' and 'X.1414' and 'X.1415' and 'X.1419' and 'X.1423' and 'X.1430' and 'X.1433' and 'X.1434' and 'X.1435' and 'X.1437' and 'X.1438' and 'X.1441' and 'X.1446' and 'X.1450' and 'X.1452' and 'X.1458' and 'X.1461' and 'X.1462' and 'X.1464' and 'X.1465' and 'X.1466' and 'X.1469' and 'X.1471' and 'X.1474' and 'X.1475' and 'X.1479' and 'X.1483' and 'X.1493' and 'X.1494' and 'X.1498' and 'X.1501' and 'X.1502' and 'X.1512' and 'X.1513' and 'X.1514' and 'X.1518' and 'X.1519' and 'X.1521' and 'X.1522' and 'X.1523' and 'X.1524' and 'X.1527' and 'X.1530' and 'X.1533' and 'X.1537' and 'X.1538' and 'X.1542' and 'X.1544' and 'X.1547' and 'X.1548' and 'X.1554' and 'X.1555' and 'X.1556' and 'X.1557' and 'X.1559' and 'X.1562' and 'X.1565' and 'X.1569' and 'X.1573' and 'X.1580' and 'X.1582' and 'X.1589' and 'X.1590' and 'X.1592' and 'X.1599' and 'X.1600' and 'X.1603' and 'X.1605' and 'X.1611' and 'X.1612' and 'X.1614' and 'X.1620' and 'X.1622' and 'X.1623' and 'X.1627' and 'X.1631' and 'X.1632' and 'X.1635' and 'X.1636' and 'X.1640' and 'X.1642' and 'X.1648' and 'X.1649' and 'X.1650' and 'X.1651' and 'X.1652' and 'X.1657' and 'X.1661' and 'X.1663' and 'X.1665' and 'X.1666' and 'X.1670' and 'X.1672' and 'X.1678' and 'X.1679' and 'X.1688' and 'X.1692' and 'X.1693' and 'X.1695' and 'X.1702' and 'X.1703' and 'X.1705' and 'X.1710' and 'X.1715' and 'X.1720' and 'X.1722' and 'X.1723' and 'X.1725' and 'X.1729' and 'X.1731' and 'X.1733' and 'X.1734' and 'X.1739' and 'X.1740' and 'X.1742' and 'X.1748' and 'X.1753' and 'X.1754' and 'X.1755' and 'X.1756' and 'X.1758' and 'X.1766' and 'X.1768' and 'X.1772' and 'X.1774' and 'X.1775' and 'X.1777' and 'X.1779' and 'X.1782' and 'X.1788' and 'X.1793' and 'X.1794' and 'X.1801' and 'X.1802' and 'X.1806' and 'X.1811' and 'X.1820' and 'X.1822' and 'X.1823' and 'X.1826' and 'X.1832' and 'X.1837' and 'X.1848' and 'X.1849' and 'X.1854' and 'X.1858' and 'X.1860' and 'X.1863' and 'X.1865' and 'X.1867' and 'X.1874' and 'X.1878' and 'X.1880' and 'X.1881' and 'X.1883' and 'X.1884' and 'X.1885' and 'X.188\""
     ]
    },
    {
     "data": {
      "text/plain": [
       "\n",
       "Call:\n",
       "svm(formula = logSw ~ ., data = train)\n",
       "\n",
       "\n",
       "Parameters:\n",
       "   SVM-Type:  eps-regression \n",
       " SVM-Kernel:  radial \n",
       "       cost:  1 \n",
       "      gamma:  0.0004885198 \n",
       "    epsilon:  0.1 \n",
       "\n",
       "\n",
       "Number of Support Vectors:  201\n",
       "\n",
       "\n",
       "\n",
       "\n"
      ]
     },
     "metadata": {},
     "output_type": "display_data"
    }
   ],
   "source": [
    "model_svm <- svm(logSw ~., data = train)\n",
    "summary(model_svm)"
   ]
  },
  {
   "cell_type": "code",
   "execution_count": 24,
   "metadata": {
    "collapsed": true
   },
   "outputs": [],
   "source": [
    "pred_svm <- predict(model_svm, newdata = test)"
   ]
  },
  {
   "cell_type": "code",
   "execution_count": 25,
   "metadata": {},
   "outputs": [
    {
     "data": {
      "text/html": [
       "0.269612688644196"
      ],
      "text/latex": [
       "0.269612688644196"
      ],
      "text/markdown": [
       "0.269612688644196"
      ],
      "text/plain": [
       "[1] 0.2696127"
      ]
     },
     "metadata": {},
     "output_type": "display_data"
    }
   ],
   "source": [
    "sse <- sum((pred_svm - test$logSw)^2)\n",
    "sst <- sum((test$logSw - mean(train$logSw))^2)\n",
    "\n",
    "1 -sse/sst"
   ]
  },
  {
   "cell_type": "code",
   "execution_count": null,
   "metadata": {
    "collapsed": true
   },
   "outputs": [],
   "source": []
  }
 ],
 "metadata": {
  "kernelspec": {
   "display_name": "R",
   "language": "R",
   "name": "ir"
  },
  "language_info": {
   "codemirror_mode": "r",
   "file_extension": ".r",
   "mimetype": "text/x-r-source",
   "name": "R",
   "pygments_lexer": "r",
   "version": "3.4.2"
  }
 },
 "nbformat": 4,
 "nbformat_minor": 2
}
